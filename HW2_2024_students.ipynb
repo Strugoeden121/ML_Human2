{
  "cells": [
    {
      "cell_type": "markdown",
      "metadata": {
        "id": "9Mpd38HztkAh"
      },
      "source": [
        "<center>\n",
        "<h1>236606 - Machine Learning and Human Behavior</h1>\n",
        "<h2>Homework #2 - Discrete Choice ✨</h2>\n",
        "</center>"
      ]
    },
    {
      "cell_type": "markdown",
      "metadata": {
        "id": "MWK5QJd7opXM"
      },
      "source": [
        "## Preliminaries\n",
        "Run these cells to load into memory objects and functions that will be used throughtout the homework."
      ]
    },
    {
      "cell_type": "code",
      "execution_count": 4,
      "metadata": {
        "id": "25Ie6znsg1gU"
      },
      "outputs": [],
      "source": [
        "#@title Imports\n",
        "import numpy as np\n",
        "import matplotlib.pyplot as plt\n",
        "import pandas as pd\n",
        "import abc\n",
        "import string\n",
        "import statsmodels.api as sm\n",
        "import itertools\n",
        "from sklearn import svm, linear_model\n",
        "import pandas as pd\n",
        "import sys\n",
        "import pickle as pkl\n",
        "\n",
        "from collections import OrderedDict\n",
        "\n",
        "%config InlineBackend.figure_format = 'retina'"
      ]
    },
    {
      "cell_type": "code",
      "execution_count": 2,
      "metadata": {
        "cellView": "form",
        "id": "-57rrztworxu"
      },
      "outputs": [],
      "source": [
        "#@title Context Effect\n",
        "# user model types\n",
        "\n",
        "# Generate Choice\n",
        "\n",
        "class UserModel(abc.ABC):\n",
        "  @abc.abstractclassmethod\n",
        "  def __call__(self, X, *args):\n",
        "    '''\n",
        "    Given items X, calculate the user's valuation v(x) for each item x\n",
        "    '''\n",
        "    raise NotImplementedError()\n",
        "\n",
        "  def predict(self, X, *args):\n",
        "    raise NotImplementedError()\n",
        "\n",
        "\n",
        "class RationalUserModel(UserModel):\n",
        "\n",
        "  def __init__(self, num_features, beta_h):\n",
        "    self.num_features = num_features\n",
        "    self.beta_h = beta_h\n",
        "    self.type = \"rational\"\n",
        "\n",
        "  def __call__(self, X):\n",
        "    return X@self.beta_h\n",
        "\n",
        "  def choice(self, X):\n",
        "    return np.argmax(self(X), axis=0)\n",
        "\n",
        "\n",
        "class AttractionUserModel(UserModel):\n",
        "  def __init__(self, beta_h, alpha_attr):\n",
        "    # rational_utility_weights\n",
        "    self.rational_utility_weights = beta_h\n",
        "    # attraction_coefficient\n",
        "    self.attraction_coefficient = alpha_attr\n",
        "    self.name = \"attraction\"\n",
        "\n",
        "  def __call__(self, X):\n",
        "    # X: shape=(num_items,num_features) - Item covariates\n",
        "    return (\n",
        "        self._rational_decision_term(X)\n",
        "        + self.attraction_coefficient*self._attraction_term(X)\n",
        "    )\n",
        "\n",
        "  def _rational_decision_term(self, X):\n",
        "    return X@self.rational_utility_weights\n",
        "\n",
        "  def _attraction_term(self, X):\n",
        "    # Calculate preference vector\n",
        "    preference_vector = X.max(axis=0)-X.min(axis=0)\n",
        "    preference_vector_normalized = (\n",
        "        preference_vector\n",
        "        /np.sqrt(preference_vector@preference_vector)\n",
        "    )\n",
        "    # Calculate dominance and distance matrices\n",
        "    N = len(X)\n",
        "    dominance = np.zeros((N,N))\n",
        "    distance = np.zeros((N,N))\n",
        "    for i in range(N):\n",
        "      for j in range(N):\n",
        "        dominance[i,j] = (+1)*np.all(X[i]-X[j] >= 0) + (-1)*np.all(X[j]-X[i] >= 0)\n",
        "        distance[i,j] = abs(preference_vector_normalized@(X[i]-X[j]))\n",
        "\n",
        "    attraction_terms = (dominance*distance).sum(axis=1)\n",
        "    return attraction_terms\n",
        "\n",
        "  def choice(self, X):\n",
        "    return np.argmax(self(X), axis=0)"
      ]
    },
    {
      "cell_type": "code",
      "execution_count": 3,
      "metadata": {
        "cellView": "form",
        "id": "YX76vMPIRvA7"
      },
      "outputs": [],
      "source": [
        "#@title Context Effects Environment\n",
        "\n",
        "\n",
        "class DiscreteChoiceEnvironment:\n",
        "    \"\"\"\n",
        "    Generic class for discrete-choice dataset generation\n",
        "    \"\"\"\n",
        "    n_features = 8\n",
        "    observations_per_user = 10\n",
        "    items_per_slate = 1\n",
        "    train_user_proportion = 0.6\n",
        "\n",
        "    def _generate_user_item_attributes(self, n_users):\n",
        "        \"\"\"\n",
        "        Generate latent parameters for users and items.\n",
        "\n",
        "        Parameters\n",
        "        ----------\n",
        "        n_users : int\n",
        "\n",
        "        Output\n",
        "        ------\n",
        "        users : ndarray of shape (n_users, n_features)\n",
        "        items : ndarray of shape\n",
        "                (n_users, observations_per_user, items_per_slate, n_features)\n",
        "        \"\"\"\n",
        "        users = np.random.normal(\n",
        "            size=(\n",
        "                n_users,\n",
        "                self.n_features,\n",
        "            ),\n",
        "        )\n",
        "        items = np.random.normal(\n",
        "            size=(\n",
        "                n_users,\n",
        "                self.observations_per_user,\n",
        "                self.items_per_slate,\n",
        "                self.n_features,\n",
        "            ),\n",
        "        )\n",
        "        return users, items\n",
        "\n",
        "    def _choice(self, users, items):\n",
        "        \"\"\"\n",
        "        Discrete choice function\n",
        "\n",
        "        Parameters\n",
        "        ----------\n",
        "        users : ndarray of shape (n_users, n_features)\n",
        "        items : ndarray of shape\n",
        "                (n_users, observations_per_user, items_per_slate, n_features)\n",
        "\n",
        "        Output\n",
        "        ------\n",
        "        choice : Dict[str -> ndarray of shape(n_users, observations_per_user)]\n",
        "        \"\"\"\n",
        "        raise NotImplementedError\n",
        "\n",
        "    def _generate_choice_dataset(self, n_users):\n",
        "        \"\"\"\n",
        "        Generate choice dataset, formatted as pandas dataframe.\n",
        "        \"\"\"\n",
        "        users, items = self._generate_user_item_attributes(n_users)\n",
        "        choice_dct = self._choice(users, items)\n",
        "        rows = []\n",
        "        for i in range(n_users):\n",
        "            for j in range(self.observations_per_user):\n",
        "                dct = {}\n",
        "                dct['user_id'] = f'{i}'\n",
        "                dct['slate_id'] = f'{i}_{j}'\n",
        "                for k in range(self.items_per_slate):\n",
        "                    for l in range(self.n_features):\n",
        "                        dct[f'x_{k},{l}'] = items[i,j,k,l]\n",
        "                for choice_type, choice_matrix in choice_dct.items():\n",
        "                    dct[choice_type] = choice_matrix[i,j]\n",
        "                rows.append(dct)\n",
        "        df = pd.DataFrame(rows)\n",
        "        return df\n",
        "\n",
        "    def generate_datasets(self, n_users):\n",
        "        n_train_users = int(n_users*self.train_user_proportion)\n",
        "        n_test_users = n_users - n_train_users\n",
        "        return (\n",
        "            self._generate_choice_dataset(n_train_users),\n",
        "            self._generate_choice_dataset(n_test_users),\n",
        "        )\n",
        "\n",
        "\n",
        "class ContextChoiceEnvironment(DiscreteChoiceEnvironment):\n",
        "    \"\"\"\n",
        "    Dataset generator for binary choice with decision noise\n",
        "    \"\"\"\n",
        "    def __init__(self,\n",
        "                 slate_number=1,\n",
        "                 observations_per_user=50,\n",
        "                 num_items_omega=15):\n",
        "\n",
        "        # self.noise_scale = noise_scale\n",
        "        self.user_model = AttractionUserModel(\n",
        "                          beta_h=np.array([1,9]),\n",
        "                          alpha_attr=3,\n",
        "                          )\n",
        "        self.slate_number = slate_number\n",
        "        self.observations_per_user = observations_per_user\n",
        "        self._generate_ex1_items(slate_number=slate_number,\n",
        "                                 num_items_omega=num_items_omega)\n",
        "\n",
        "\n",
        "    def _generate_ex1_items(self, slate_number=1, num_items_omega=15):\n",
        "      if slate_number == 1:\n",
        "        self.omega = np.array([[10,3,3,4,8,4,1],[1,7,5,4,5,6,1]])\n",
        "        self.E_s = np.array([20, 90, 80, 40, 30, 80, 100])\n",
        "        self.omega_tag = np.array([[4,2.5,4.5],[4.5,6,5]])\n",
        "        self.E_s_tag = np.array([5, 8, 3])\n",
        "\n",
        "      elif slate_number == 2:\n",
        "        self.omega = np.array([[3,8,8.5,4,10,8,2, 1],[8,7,4,4,5,6,1, 8]])\n",
        "        self.E_s = np.array([10, 90, 30, 50, 30, 40,100,90])\n",
        "\n",
        "        self.omega_tag = np.array([[4,3,4.5,6],[8,6,5,6]])\n",
        "        self.E_s_tag = np.array([5, 8, 3, 9])\n",
        "\n",
        "      else:\n",
        "        np.random.seed(42)\n",
        "        num_items_omega = 15\n",
        "        self.omega, self.omega_tag = list(), list()\n",
        "        self.E_s, self.E_s_tag = list(), list()\n",
        "\n",
        "        for i in range(self.observations_per_user):\n",
        "          self.omega.append(np.hstack([np.zeros((num_items_omega, 1)),\n",
        "                                        np.ones((num_items_omega, 1))*i,\n",
        "                                        np.random.randint(\n",
        "                                            20,size=(num_items_omega,2)),\n",
        "                                       np.random.randint(\n",
        "                                           20,100,size=(num_items_omega,1))\n",
        "                                        ]\n",
        "                                       )\n",
        "          )\n",
        "\n",
        "          self.omega_tag.append(np.hstack([np.zeros((100, 1)),\n",
        "                              np.ones((100, 1))*i,\n",
        "                              np.random.randint(\n",
        "                                  20,size=(100,2)),\n",
        "                              np.random.randint(20,size=(100,1))\n",
        "                              ]\n",
        "                              )\n",
        "          )\n",
        "\n",
        "        self.omega = np.vstack(self.omega).T\n",
        "        self.omega_tag = np.vstack(self.omega_tag).T\n",
        "      return\n",
        "\n",
        "    def _items_to_frame(self, omega, E_s, char_start=ord('A')):\n",
        "\n",
        "        data = pd.DataFrame(omega.T).reset_index()\n",
        "        if len(data) < self.observations_per_user:\n",
        "          data['user_id'] = np.zeros(len(data))\n",
        "          data['slate_id'] = np.zeros(len(data))\n",
        "          data['rantional_user_val'] = omega.T@\\\n",
        "                            self.user_model.rational_utility_weights\n",
        "          data[\"E_s\"] = E_s\n",
        "\n",
        "        else:\n",
        "          data['rantional_user_val'] = data.loc[:,[2,3]].values@\\\n",
        "                  self.user_model.rational_utility_weights\n",
        "\n",
        "          data.rename(columns={0:'user_id', 1:'slate_id',\n",
        "                               2:'x_0', 3:'x_1', 4:'E_s'},\n",
        "                      inplace=True)\n",
        "\n",
        "        data['name'] = data['index'].apply(lambda x: chr(char_start+x))\n",
        "\n",
        "        return data\n",
        "\n",
        "\n",
        "    def inspect_data(self, items_type=\"current\", slate_id=-1):\n",
        "\n",
        "      if items_type == \"current\":\n",
        "        data =  self._items_to_frame(self.omega,self.E_s)\n",
        "      elif items_type == \"tag\":\n",
        "        data =  self._items_to_frame(self.omega_tag, self.E_s_tag, ord('A') + len(self.E_s)+1) #todo: change this\n",
        "\n",
        "      return data\n",
        "\n",
        "\n",
        "    def generate_datasets(self):\n",
        "\n",
        "      data = pd.DataFrame(self.omega.T).reset_index()\n",
        "      if len(data) < self.observations_per_user:\n",
        "\n",
        "        data['user_id'] = np.zeros(len(data))\n",
        "        data['slate_id'] = np.zeros(len(data))\n",
        "        data['name'] = data['index'].apply(lambda x: chr(ord('A')+x))\n",
        "        data['rantional_user_val'] = self.omega.T@\\\n",
        "                                    self.user_model.rational_utility_weights\n",
        "        self.top_5 = data.rantional_user_val.argsort()[-5:][::-1]\n",
        "        data['top_5'] = data['index'].apply(lambda x: x in self.top_5.values)\n",
        "        data['perceived_val'] = np.nan\n",
        "        data.loc[self.top_5, ['perceived_val']] = self.user_model(data.loc[self.top_5, [0,1]].values)\n",
        "        data = self._choice(data)\n",
        "\n",
        "      return data\n",
        "\n",
        "\n",
        "    def _choice(self, data):\n",
        "        dummies = pd.get_dummies(data['index'])\n",
        "        # for name, group in grouped:\n",
        "        self.chosen = data['perceived_val'].idxmax()\n",
        "        data['chosen'] = dummies.iloc[data['perceived_val'].idxmax(), :]\n",
        "        return data\n",
        "\n",
        "    def add_item(self, index):\n",
        "      self.omega = np.hstack([self.omega,self.omega_tag[:,index].reshape(2,1)])\n",
        "      self.E_s =np.hstack([self.E_s,self.E_s_tag[1]])\n",
        "      return\n",
        "\n",
        "    def pop_item(self):\n",
        "      self.omega = self.omega[:,:-1]\n",
        "      self.E_s =self.E_s[:-1]\n",
        "      return\n",
        "\n",
        "    def top_5(self, rantional_user_val):\n",
        "      return rantional_user_val.argsort()[-5:][::-1]\n",
        "\n",
        "    def plot_omega(self):\n",
        "      area = 20\n",
        "\n",
        "      self.generate_datasets()\n",
        "      fig, ax = plt.subplots()\n",
        "      ax.scatter(self.omega[0,:], self.omega[1,:], s=80,label=\"$\\Omega$\")\n",
        "      plt.title('Items in $\\Omega$', fontsize=20)\n",
        "      plt.xlabel('$X_1$')\n",
        "      plt.ylabel('$X_2$')\n",
        "      plt.grid()\n",
        "      # # color the top three items\n",
        "      ax.scatter(self.omega[0,self.top_5], self.omega[1,self.top_5], s=80, color='red')\n",
        "      # add annotations\n",
        "      S_len = self.omega.shape[1]\n",
        "      for i, txt in enumerate(string.ascii_uppercase[:S_len]):\n",
        "          ax.annotate(txt, (self.omega[0,:][i]+0.05, self.omega[1,:][i]+0.07))\n",
        "      ax.scatter(self.omega[0,self.chosen], self.omega[1,self.chosen], s=80, color='red',edgecolors='black',linewidths=2)\n",
        "\n",
        "      plt.show()\n",
        "\n",
        "    def plot_two_sets(self):\n",
        "      area = 20\n",
        "\n",
        "      fig, ax = plt.subplots()\n",
        "      ax.scatter(self.omega[0,:], self.omega[1,:], s=80,label=\"$\\Omega$\")\n",
        "      plt.title('Items in both sets', fontsize=20)\n",
        "      plt.xlabel('$X_1$')\n",
        "      plt.ylabel('$X_2$')\n",
        "      plt.grid()\n",
        "      # inspect set of decoyes\n",
        "      ax.scatter(self.omega_tag[0,:],self.omega_tag[1,:], s=80, label=\"$\\Omega'$\")\n",
        "      plt.legend(loc='lower right')\n",
        "\n",
        "\n",
        "      # add annotations and print user values\n",
        "      S_len = self.omega.shape[1]\n",
        "      Sw_s = S_len + 1\n",
        "      Sw_len = Sw_s + self.omega_tag.shape[1]\n",
        "      for i, txt in enumerate(string.ascii_uppercase[:S_len]):\n",
        "          ax.annotate(txt, (self.omega[0,:][i]+0.05, self.omega[1,:][i]+0.07))\n",
        "\n",
        "      for i, txt in enumerate(string.ascii_uppercase[Sw_s:Sw_len]):\n",
        "          ax.annotate(txt, (self.omega_tag[0,:][i]+0.1, self.omega_tag[1,:][i]+0.1))\n",
        "      plt.show()\n",
        "\n",
        "      return\n"
      ]
    },
    {
      "cell_type": "markdown",
      "metadata": {
        "id": "9zegIuLRG5y5"
      },
      "source": [
        "\n",
        "\n",
        "-----------------\n",
        "-----------------"
      ]
    },
    {
      "cell_type": "markdown",
      "metadata": {
        "id": "LUKD_nqn3ner"
      },
      "source": [
        "## Ex 1: engineering choice sets\n",
        "\n",
        "In this task, you will play \"evil designer\" and construct sets of available items that cause (non-rational) users to choose items that are bad for them (i.e., have suboptimal value), but good for the system. In particular, users in this task will be susceptible to the *Attracttion* context effect, and the way you construct the set of items should make use of this knowledge.\n",
        "\n",
        "----------------------------------------\n",
        "\n",
        "**Recommendation procedure:**\n",
        "1. The collection of available items is the *ground set* $\\Omega=\\{x_1,...,x_n\\}$ ($n$ may be different in different parts of this task). Each item $x \\in s$ is described by two features, $x=(x_1, x_2)$.\n",
        "2. There is a single user whose (true) value function is $v(x)=\\alpha^\\top x$. I.e., if the user chooses item $x_i$, then she receives $\\alpha_1\\cdot x_{i1} + \\alpha_2\\cdot x_{i2}$ utility from this choice. **The value vector $\\alpha$ is known to the system**.\n",
        "3. System also benefits from user choices. If the user chooses item $x_i$, then the system receives $e_i$ utility. The values $e_i$ are predetermined, known to the system, and do not depend on features.\n",
        "4. The system recommends to the user the top-5 items $x\\in \\Omega$ having highest value. We will call this the *choice set*, denoted $s \\in \\Omega$.\n",
        "5. The user chooses exactly one item $x \\in s$. This is the item with highest *perceived value*, as determined by the attraction effect:\n",
        "$$\n",
        "  \\tilde{v}(x|s) = \\alpha^\\top x + \\mathtt{att}(x|s)\n",
        "$$\n",
        "where $\\mathtt{att}$ is as was defined in class. We will denote the chosen item by $y = \\mathtt{argmax}_{x \\in s} \\tilde{v}(x|s)$.\n",
        "6. User receives utility $v(y)$, and system receives utility $e_y$.\n",
        "\n",
        "----------------------------------------\n",
        "\n",
        "In the above description, the system recommends in a way that is optimal to users. In this task, *you are an agent of the system*, and your goal is to maximize the system's utility.\n",
        "\n",
        "Of course, you cannot simply force the user to choose a certain item, nor can you change the recommendation procedure. The only thing you are allowed to do is to modify $\\Omega$ by adding one additional item from a different set of items, $\\Omega'$. Once $\\Omega$ is modified (i.e., includes one additional item), the recommendation procedure and user choice behavior is as described above.\n",
        "Hence, your goal is to (manually) choose $x \\in \\Omega$ such that the choice $y$ derived from a top-5 recommended set $s$ based on the collection of items $\\Omega \\cup \\{x\\}$ will results in high system utility $e_y$ (and possibly with lower utility $v(y)$ to the user).\n",
        "\n",
        "As you will see, items in  $\\Omega'$ actually have lower system values $e_i$ than items in $\\Omega$ ($\\forall e \\in E_S, e' \\in E_S':  e > e'$). Therefore, the item you add will serve as a *decoy*: these serve to modify the preceived values of items in $s$, in a way that utilizes the attraction effect to affect choice behavior."
      ]
    },
    {
      "cell_type": "markdown",
      "metadata": {
        "id": "4sm5Z1Pr-Nbe"
      },
      "source": [
        "### 1.1 Guided example - a gentle start:\n",
        "\n",
        "Set $\\Omega$ consists of 7 items:\n",
        "\n",
        "\\begin{align}\n",
        "{A:(1,10), B:(3,7), C:(3,5), D:(4,4), E:(8,5), F:(4,6), G:(1,1)}\n",
        "\\end{align}\n",
        "\n",
        "with the following system utility values $e_s=\\{e_1,\\dots,e_n\\}$:\n",
        "\\begin{align}\n",
        "\\{20, 90, 80, 40, 30, 80, 100\\}\n",
        "\\end{align}\n",
        "\n",
        "Additionally, we have set $\\Omega'$:\n",
        "\\begin{align}\n",
        "{I:(4,4.5), J:(2.5,6), K:(4.5,5)}\n",
        "\\end{align}\n",
        "with the following values $e_{s'}$:\n",
        "\\begin{align}\n",
        "\\{5, 8, 3\\}\n",
        "\\end{align}\n",
        "\n",
        "The parameter $\\alpha$ of the user value function is:\n",
        "\\begin{align}\n",
        "\\alpha_1 = 1, \\alpha_2 = 9\n",
        "\\end{align}\n"
      ]
    },
    {
      "cell_type": "markdown",
      "metadata": {
        "id": "9HFE1ClPH3NR"
      },
      "source": [
        "1.1.1 First, let's see what happens before you intervene. Run the code below to see what 5 items are recommended by the system when $\\Omega$ is the ground set,\n",
        "and what item the user chooses. Make sure you understand what the code does."
      ]
    },
    {
      "cell_type": "code",
      "execution_count": 4,
      "metadata": {
        "id": "nElEn6waxzKh"
      },
      "outputs": [
        {
          "data": {
            "text/html": [
              "<div>\n",
              "<style scoped>\n",
              "    .dataframe tbody tr th:only-of-type {\n",
              "        vertical-align: middle;\n",
              "    }\n",
              "\n",
              "    .dataframe tbody tr th {\n",
              "        vertical-align: top;\n",
              "    }\n",
              "\n",
              "    .dataframe thead th {\n",
              "        text-align: right;\n",
              "    }\n",
              "</style>\n",
              "<table border=\"1\" class=\"dataframe\">\n",
              "  <thead>\n",
              "    <tr style=\"text-align: right;\">\n",
              "      <th></th>\n",
              "      <th>index</th>\n",
              "      <th>0</th>\n",
              "      <th>1</th>\n",
              "      <th>user_id</th>\n",
              "      <th>slate_id</th>\n",
              "      <th>rantional_user_val</th>\n",
              "      <th>E_s</th>\n",
              "      <th>name</th>\n",
              "    </tr>\n",
              "  </thead>\n",
              "  <tbody>\n",
              "    <tr>\n",
              "      <th>0</th>\n",
              "      <td>0</td>\n",
              "      <td>10</td>\n",
              "      <td>1</td>\n",
              "      <td>0.0</td>\n",
              "      <td>0.0</td>\n",
              "      <td>19</td>\n",
              "      <td>20</td>\n",
              "      <td>A</td>\n",
              "    </tr>\n",
              "    <tr>\n",
              "      <th>1</th>\n",
              "      <td>1</td>\n",
              "      <td>3</td>\n",
              "      <td>7</td>\n",
              "      <td>0.0</td>\n",
              "      <td>0.0</td>\n",
              "      <td>66</td>\n",
              "      <td>90</td>\n",
              "      <td>B</td>\n",
              "    </tr>\n",
              "    <tr>\n",
              "      <th>2</th>\n",
              "      <td>2</td>\n",
              "      <td>3</td>\n",
              "      <td>5</td>\n",
              "      <td>0.0</td>\n",
              "      <td>0.0</td>\n",
              "      <td>48</td>\n",
              "      <td>80</td>\n",
              "      <td>C</td>\n",
              "    </tr>\n",
              "    <tr>\n",
              "      <th>3</th>\n",
              "      <td>3</td>\n",
              "      <td>4</td>\n",
              "      <td>4</td>\n",
              "      <td>0.0</td>\n",
              "      <td>0.0</td>\n",
              "      <td>40</td>\n",
              "      <td>40</td>\n",
              "      <td>D</td>\n",
              "    </tr>\n",
              "    <tr>\n",
              "      <th>4</th>\n",
              "      <td>4</td>\n",
              "      <td>8</td>\n",
              "      <td>5</td>\n",
              "      <td>0.0</td>\n",
              "      <td>0.0</td>\n",
              "      <td>53</td>\n",
              "      <td>30</td>\n",
              "      <td>E</td>\n",
              "    </tr>\n",
              "    <tr>\n",
              "      <th>5</th>\n",
              "      <td>5</td>\n",
              "      <td>4</td>\n",
              "      <td>6</td>\n",
              "      <td>0.0</td>\n",
              "      <td>0.0</td>\n",
              "      <td>58</td>\n",
              "      <td>80</td>\n",
              "      <td>F</td>\n",
              "    </tr>\n",
              "    <tr>\n",
              "      <th>6</th>\n",
              "      <td>6</td>\n",
              "      <td>1</td>\n",
              "      <td>1</td>\n",
              "      <td>0.0</td>\n",
              "      <td>0.0</td>\n",
              "      <td>10</td>\n",
              "      <td>100</td>\n",
              "      <td>G</td>\n",
              "    </tr>\n",
              "  </tbody>\n",
              "</table>\n",
              "</div>"
            ],
            "text/plain": [
              "   index   0  1  user_id  slate_id  rantional_user_val  E_s name\n",
              "0      0  10  1      0.0       0.0                  19   20    A\n",
              "1      1   3  7      0.0       0.0                  66   90    B\n",
              "2      2   3  5      0.0       0.0                  48   80    C\n",
              "3      3   4  4      0.0       0.0                  40   40    D\n",
              "4      4   8  5      0.0       0.0                  53   30    E\n",
              "5      5   4  6      0.0       0.0                  58   80    F\n",
              "6      6   1  1      0.0       0.0                  10  100    G"
            ]
          },
          "execution_count": 4,
          "metadata": {},
          "output_type": "execute_result"
        }
      ],
      "source": [
        "attraction_env = ContextChoiceEnvironment()\n",
        "attraction_env.inspect_data(items_type=\"current\")"
      ]
    },
    {
      "cell_type": "code",
      "execution_count": 5,
      "metadata": {
        "id": "IvVDRgpLFAtG"
      },
      "outputs": [
        {
          "data": {
            "text/html": [
              "<div>\n",
              "<style scoped>\n",
              "    .dataframe tbody tr th:only-of-type {\n",
              "        vertical-align: middle;\n",
              "    }\n",
              "\n",
              "    .dataframe tbody tr th {\n",
              "        vertical-align: top;\n",
              "    }\n",
              "\n",
              "    .dataframe thead th {\n",
              "        text-align: right;\n",
              "    }\n",
              "</style>\n",
              "<table border=\"1\" class=\"dataframe\">\n",
              "  <thead>\n",
              "    <tr style=\"text-align: right;\">\n",
              "      <th></th>\n",
              "      <th>index</th>\n",
              "      <th>0</th>\n",
              "      <th>1</th>\n",
              "      <th>user_id</th>\n",
              "      <th>slate_id</th>\n",
              "      <th>rantional_user_val</th>\n",
              "      <th>E_s</th>\n",
              "      <th>name</th>\n",
              "    </tr>\n",
              "  </thead>\n",
              "  <tbody>\n",
              "    <tr>\n",
              "      <th>0</th>\n",
              "      <td>0</td>\n",
              "      <td>4.0</td>\n",
              "      <td>4.5</td>\n",
              "      <td>0.0</td>\n",
              "      <td>0.0</td>\n",
              "      <td>44.5</td>\n",
              "      <td>5</td>\n",
              "      <td>I</td>\n",
              "    </tr>\n",
              "    <tr>\n",
              "      <th>1</th>\n",
              "      <td>1</td>\n",
              "      <td>2.5</td>\n",
              "      <td>6.0</td>\n",
              "      <td>0.0</td>\n",
              "      <td>0.0</td>\n",
              "      <td>56.5</td>\n",
              "      <td>8</td>\n",
              "      <td>J</td>\n",
              "    </tr>\n",
              "    <tr>\n",
              "      <th>2</th>\n",
              "      <td>2</td>\n",
              "      <td>4.5</td>\n",
              "      <td>5.0</td>\n",
              "      <td>0.0</td>\n",
              "      <td>0.0</td>\n",
              "      <td>49.5</td>\n",
              "      <td>3</td>\n",
              "      <td>K</td>\n",
              "    </tr>\n",
              "  </tbody>\n",
              "</table>\n",
              "</div>"
            ],
            "text/plain": [
              "   index    0    1  user_id  slate_id  rantional_user_val  E_s name\n",
              "0      0  4.0  4.5      0.0       0.0                44.5    5    I\n",
              "1      1  2.5  6.0      0.0       0.0                56.5    8    J\n",
              "2      2  4.5  5.0      0.0       0.0                49.5    3    K"
            ]
          },
          "execution_count": 5,
          "metadata": {},
          "output_type": "execute_result"
        }
      ],
      "source": [
        "attraction_env.inspect_data(items_type=\"tag\")"
      ]
    },
    {
      "cell_type": "markdown",
      "metadata": {
        "id": "TU5AUnijJ7Hq"
      },
      "source": [
        "1.1.2 Use ```generate_datasets``` method to print a table showing for each of Omega's items (rows) the true value and perceived value for the user (columns). save results to variable ```df```and print"
      ]
    },
    {
      "cell_type": "code",
      "execution_count": 6,
      "metadata": {
        "id": "EsaQCFw0Y7_B"
      },
      "outputs": [
        {
          "data": {
            "text/html": [
              "<div>\n",
              "<style scoped>\n",
              "    .dataframe tbody tr th:only-of-type {\n",
              "        vertical-align: middle;\n",
              "    }\n",
              "\n",
              "    .dataframe tbody tr th {\n",
              "        vertical-align: top;\n",
              "    }\n",
              "\n",
              "    .dataframe thead th {\n",
              "        text-align: right;\n",
              "    }\n",
              "</style>\n",
              "<table border=\"1\" class=\"dataframe\">\n",
              "  <thead>\n",
              "    <tr style=\"text-align: right;\">\n",
              "      <th></th>\n",
              "      <th>index</th>\n",
              "      <th>0</th>\n",
              "      <th>1</th>\n",
              "      <th>user_id</th>\n",
              "      <th>slate_id</th>\n",
              "      <th>name</th>\n",
              "      <th>rantional_user_val</th>\n",
              "      <th>top_5</th>\n",
              "      <th>perceived_val</th>\n",
              "      <th>chosen</th>\n",
              "    </tr>\n",
              "  </thead>\n",
              "  <tbody>\n",
              "    <tr>\n",
              "      <th>0</th>\n",
              "      <td>0</td>\n",
              "      <td>10</td>\n",
              "      <td>1</td>\n",
              "      <td>0.0</td>\n",
              "      <td>0.0</td>\n",
              "      <td>A</td>\n",
              "      <td>19</td>\n",
              "      <td>False</td>\n",
              "      <td>NaN</td>\n",
              "      <td>False</td>\n",
              "    </tr>\n",
              "    <tr>\n",
              "      <th>1</th>\n",
              "      <td>1</td>\n",
              "      <td>3</td>\n",
              "      <td>7</td>\n",
              "      <td>0.0</td>\n",
              "      <td>0.0</td>\n",
              "      <td>B</td>\n",
              "      <td>66</td>\n",
              "      <td>True</td>\n",
              "      <td>69.086975</td>\n",
              "      <td>False</td>\n",
              "    </tr>\n",
              "    <tr>\n",
              "      <th>2</th>\n",
              "      <td>2</td>\n",
              "      <td>3</td>\n",
              "      <td>5</td>\n",
              "      <td>0.0</td>\n",
              "      <td>0.0</td>\n",
              "      <td>C</td>\n",
              "      <td>48</td>\n",
              "      <td>True</td>\n",
              "      <td>27.934666</td>\n",
              "      <td>False</td>\n",
              "    </tr>\n",
              "    <tr>\n",
              "      <th>3</th>\n",
              "      <td>3</td>\n",
              "      <td>4</td>\n",
              "      <td>4</td>\n",
              "      <td>0.0</td>\n",
              "      <td>0.0</td>\n",
              "      <td>D</td>\n",
              "      <td>40</td>\n",
              "      <td>True</td>\n",
              "      <td>25.079623</td>\n",
              "      <td>False</td>\n",
              "    </tr>\n",
              "    <tr>\n",
              "      <th>4</th>\n",
              "      <td>4</td>\n",
              "      <td>8</td>\n",
              "      <td>5</td>\n",
              "      <td>0.0</td>\n",
              "      <td>0.0</td>\n",
              "      <td>E</td>\n",
              "      <td>53</td>\n",
              "      <td>True</td>\n",
              "      <td>77.695796</td>\n",
              "      <td>True</td>\n",
              "    </tr>\n",
              "    <tr>\n",
              "      <th>5</th>\n",
              "      <td>5</td>\n",
              "      <td>4</td>\n",
              "      <td>6</td>\n",
              "      <td>0.0</td>\n",
              "      <td>0.0</td>\n",
              "      <td>F</td>\n",
              "      <td>58</td>\n",
              "      <td>True</td>\n",
              "      <td>65.202941</td>\n",
              "      <td>False</td>\n",
              "    </tr>\n",
              "    <tr>\n",
              "      <th>6</th>\n",
              "      <td>6</td>\n",
              "      <td>1</td>\n",
              "      <td>1</td>\n",
              "      <td>0.0</td>\n",
              "      <td>0.0</td>\n",
              "      <td>G</td>\n",
              "      <td>10</td>\n",
              "      <td>False</td>\n",
              "      <td>NaN</td>\n",
              "      <td>False</td>\n",
              "    </tr>\n",
              "  </tbody>\n",
              "</table>\n",
              "</div>"
            ],
            "text/plain": [
              "   index   0  1  user_id  slate_id name  rantional_user_val  top_5  \\\n",
              "0      0  10  1      0.0       0.0    A                  19  False   \n",
              "1      1   3  7      0.0       0.0    B                  66   True   \n",
              "2      2   3  5      0.0       0.0    C                  48   True   \n",
              "3      3   4  4      0.0       0.0    D                  40   True   \n",
              "4      4   8  5      0.0       0.0    E                  53   True   \n",
              "5      5   4  6      0.0       0.0    F                  58   True   \n",
              "6      6   1  1      0.0       0.0    G                  10  False   \n",
              "\n",
              "   perceived_val  chosen  \n",
              "0            NaN   False  \n",
              "1      69.086975   False  \n",
              "2      27.934666   False  \n",
              "3      25.079623   False  \n",
              "4      77.695796    True  \n",
              "5      65.202941   False  \n",
              "6            NaN   False  "
            ]
          },
          "execution_count": 6,
          "metadata": {},
          "output_type": "execute_result"
        }
      ],
      "source": [
        "df = attraction_env.generate_datasets()\n",
        "df"
      ]
    },
    {
      "cell_type": "markdown",
      "metadata": {
        "id": "O5kMKUejKZBj"
      },
      "source": [
        "1.1.3 Use\n",
        "```plot_omega``` method to plot all items in 2D space and highlights the top-5 items and the user's choice:"
      ]
    },
    {
      "cell_type": "code",
      "execution_count": 7,
      "metadata": {
        "id": "fv3ga2KQbyXL"
      },
      "outputs": [
        {
          "data": {
            "image/png": "[encoded data removed]",
            "text/plain": [
              "<Figure size 640x480 with 1 Axes>"
            ]
          },
          "metadata": {
            "image/png": {
              "height": 463,
              "width": 554
            }
          },
          "output_type": "display_data"
        }
      ],
      "source": [
        "attraction_env.plot_omega()"
      ]
    },
    {
      "cell_type": "markdown",
      "metadata": {
        "id": "I8ec9tKqbyE_"
      },
      "source": [
        "In the above plot, items in $\\Omega$ are dots. Top-5 items that are currently selected from $\\omega$ are colored red, and all others are blue. The chosen item has a black border.\n",
        "\n",
        "Some things to note:\n",
        "* Items C and D are dominated by E and F (make sure you understand what this means, and why it holds).\n",
        "* User chooses item E, meaning it has the highest perceived value. Here, item E also has the highest true value, and so the user is happy.\n",
        "* The value to the system form the user choosing item E is $e_E=20$."
      ]
    },
    {
      "cell_type": "markdown",
      "metadata": {
        "id": "HvRnRCRxLo4p"
      },
      "source": [
        "1.1.4\n",
        "What can you do to improve the system's utility?\n",
        "The next block of code plots items in both $\\Omega$ and $\\Omega'$ in 2D space:"
      ]
    },
    {
      "cell_type": "code",
      "execution_count": 8,
      "metadata": {
        "id": "nouCbut-50U4"
      },
      "outputs": [
        {
          "data": {
            "image/png": "[encoded data removed]",
            "text/plain": [
              "<Figure size 640x480 with 1 Axes>"
            ]
          },
          "metadata": {
            "image/png": {
              "height": 463,
              "width": 554
            }
          },
          "output_type": "display_data"
        }
      ],
      "source": [
        "attraction_env.plot_two_sets()"
      ]
    },
    {
      "cell_type": "markdown",
      "metadata": {
        "id": "StRfUYsT_cOt"
      },
      "source": [
        "Examine the plot. Using your knowledge about how the attraction effect works, think: if you are allowed to add one item from $\\Omega'$ to $\\Omega$, and if you are interested in maximizing system utility - which item would you add?\n",
        "\n",
        "Write your answer, and provide an explanation for your choice."
      ]
    },
    {
      "cell_type": "markdown",
      "metadata": {
        "id": "35J5QvT4mcwa"
      },
      "source": [
        "\n",
        "\n",
        "```\n",
        "Answer: When Looking at the options the user will choose from, it is clear that E and F dominate C and D. They are strictly better in every paramater. \n",
        "Also, When looking at the set of 5 top items, B has the highest system value (90). And so, we want to use attraction to make B chosen instead of E. We have 3 choices of items to add:\n",
        "K - It is dominated by E (and not by either F or B) and  E has the highest distance from it,  so it will not change the result.\n",
        "I - It is also dominated by E. F dominates I also, but because E has higher distance than I, still E will be the main benefitor (attraction = distance * <if dominated> * constant)\n",
        "J - It is not dominated by E and is dominated by F and B. Meaning this item will help the most to change the result so E won't be chosen and F or B will be Chosen instead. The distance of B and F from J is pretty similar and B has higher true value, and so B will probably Be chosen here.\n",
        "P.S: If we can Add J to *replace* an item from the recommanded set, we will remove D as it is Dominated by E and not by B.\n",
        "```"
      ]
    },
    {
      "cell_type": "markdown",
      "metadata": {
        "id": "4P8NeR5FKwKs"
      },
      "source": [
        "1.1.5 Next, let's examine what happens when we add $H$ to $\\Omega$:"
      ]
    },
    {
      "cell_type": "code",
      "execution_count": 11,
      "metadata": {
        "id": "ENJ--nAxxg3h"
      },
      "outputs": [
        {
          "data": {
            "image/png": "[encoded data removed]",
            "text/plain": [
              "<Figure size 640x480 with 1 Axes>"
            ]
          },
          "metadata": {
            "image/png": {
              "height": 463,
              "width": 554
            }
          },
          "output_type": "display_data"
        }
      ],
      "source": [
        "# plot over scatter\n",
        "# Add new item to S\n",
        "index = 1 #this is the index of H in Omega'\n",
        "attraction_env.add_item(index=index)\n",
        "\n",
        "attraction_env.plot_omega()"
      ]
    },
    {
      "cell_type": "markdown",
      "metadata": {
        "id": "5komX9WBOG1H"
      },
      "source": [
        "Print a table of true value, perceived value, and system utility for all top-5 items:"
      ]
    },
    {
      "cell_type": "code",
      "execution_count": 12,
      "metadata": {
        "id": "hazEJbG6OM2M"
      },
      "outputs": [
        {
          "data": {
            "text/html": [
              "<div>\n",
              "<style scoped>\n",
              "    .dataframe tbody tr th:only-of-type {\n",
              "        vertical-align: middle;\n",
              "    }\n",
              "\n",
              "    .dataframe tbody tr th {\n",
              "        vertical-align: top;\n",
              "    }\n",
              "\n",
              "    .dataframe thead th {\n",
              "        text-align: right;\n",
              "    }\n",
              "</style>\n",
              "<table border=\"1\" class=\"dataframe\">\n",
              "  <thead>\n",
              "    <tr style=\"text-align: right;\">\n",
              "      <th></th>\n",
              "      <th>index</th>\n",
              "      <th>0</th>\n",
              "      <th>1</th>\n",
              "      <th>user_id</th>\n",
              "      <th>slate_id</th>\n",
              "      <th>name</th>\n",
              "      <th>rantional_user_val</th>\n",
              "      <th>top_5</th>\n",
              "      <th>perceived_val</th>\n",
              "      <th>chosen</th>\n",
              "    </tr>\n",
              "  </thead>\n",
              "  <tbody>\n",
              "    <tr>\n",
              "      <th>1</th>\n",
              "      <td>1</td>\n",
              "      <td>3.0</td>\n",
              "      <td>7.0</td>\n",
              "      <td>0.0</td>\n",
              "      <td>0.0</td>\n",
              "      <td>B</td>\n",
              "      <td>66.0</td>\n",
              "      <td>True</td>\n",
              "      <td>70.869839</td>\n",
              "      <td>True</td>\n",
              "    </tr>\n",
              "    <tr>\n",
              "      <th>4</th>\n",
              "      <td>4</td>\n",
              "      <td>8.0</td>\n",
              "      <td>5.0</td>\n",
              "      <td>0.0</td>\n",
              "      <td>0.0</td>\n",
              "      <td>E</td>\n",
              "      <td>53.0</td>\n",
              "      <td>True</td>\n",
              "      <td>53.000000</td>\n",
              "      <td>False</td>\n",
              "    </tr>\n",
              "    <tr>\n",
              "      <th>5</th>\n",
              "      <td>5</td>\n",
              "      <td>4.0</td>\n",
              "      <td>6.0</td>\n",
              "      <td>0.0</td>\n",
              "      <td>0.0</td>\n",
              "      <td>F</td>\n",
              "      <td>58.0</td>\n",
              "      <td>True</td>\n",
              "      <td>66.458141</td>\n",
              "      <td>False</td>\n",
              "    </tr>\n",
              "    <tr>\n",
              "      <th>7</th>\n",
              "      <td>7</td>\n",
              "      <td>2.5</td>\n",
              "      <td>6.0</td>\n",
              "      <td>0.0</td>\n",
              "      <td>0.0</td>\n",
              "      <td>H</td>\n",
              "      <td>56.5</td>\n",
              "      <td>True</td>\n",
              "      <td>49.836010</td>\n",
              "      <td>False</td>\n",
              "    </tr>\n",
              "    <tr>\n",
              "      <th>8</th>\n",
              "      <td>8</td>\n",
              "      <td>2.5</td>\n",
              "      <td>6.0</td>\n",
              "      <td>0.0</td>\n",
              "      <td>0.0</td>\n",
              "      <td>I</td>\n",
              "      <td>56.5</td>\n",
              "      <td>True</td>\n",
              "      <td>49.836010</td>\n",
              "      <td>False</td>\n",
              "    </tr>\n",
              "  </tbody>\n",
              "</table>\n",
              "</div>"
            ],
            "text/plain": [
              "   index    0    1  user_id  slate_id name  rantional_user_val  top_5  \\\n",
              "1      1  3.0  7.0      0.0       0.0    B                66.0   True   \n",
              "4      4  8.0  5.0      0.0       0.0    E                53.0   True   \n",
              "5      5  4.0  6.0      0.0       0.0    F                58.0   True   \n",
              "7      7  2.5  6.0      0.0       0.0    H                56.5   True   \n",
              "8      8  2.5  6.0      0.0       0.0    I                56.5   True   \n",
              "\n",
              "   perceived_val  chosen  \n",
              "1      70.869839    True  \n",
              "4      53.000000   False  \n",
              "5      66.458141   False  \n",
              "7      49.836010   False  \n",
              "8      49.836010   False  "
            ]
          },
          "execution_count": 12,
          "metadata": {},
          "output_type": "execute_result"
        }
      ],
      "source": [
        "df_new = attraction_env.generate_datasets()\n",
        "df_new.loc[df_new['top_5']]"
      ]
    },
    {
      "cell_type": "markdown",
      "metadata": {
        "id": "xmZMvrLZysAp"
      },
      "source": [
        "Notice how $H$ contributed to the perceived value of $B$, just enough to make it more appealing than $E$.\n",
        "\n",
        "Congrats! The system now gets $e_B=90$ utility! (recall it was 30 before)"
      ]
    },
    {
      "cell_type": "markdown",
      "metadata": {
        "id": "G1Dy6n1Rp54D"
      },
      "source": [
        "1.1.6 Finally, let's compute:\n",
        "* welfare - this is the actual value to the user from choice\n",
        "* regret - this is the gap between the percieved value and true value of the chosen item\n",
        "(if there were more than one user, we would measure the average).\n",
        "\n",
        "Run the following code blocks and print welfare and regret for Omega before and after adding the additional item.\n"
      ]
    },
    {
      "cell_type": "code",
      "execution_count": null,
      "metadata": {},
      "outputs": [],
      "source": []
    },
    {
      "cell_type": "code",
      "execution_count": 19,
      "metadata": {
        "id": "rBtm0A21y9_y"
      },
      "outputs": [
        {
          "name": "stdout",
          "output_type": "stream",
          "text": [
            "wellfare before: 53, wellfare after: 66.0\n"
          ]
        }
      ],
      "source": [
        "# welfare\n",
        "## YOUR SOLUTION\n",
        "welfare_before = df.loc[df['perceived_val'].idxmax(), 'rantional_user_val']\n",
        "welfare_after = df_new.loc[df_new['perceived_val'].idxmax(), 'rantional_user_val']\n",
        "print(f\"wellfare before: {welfare_before}, wellfare after: {welfare_after}\")\n",
        "\n"
      ]
    },
    {
      "cell_type": "code",
      "execution_count": 22,
      "metadata": {
        "id": "yJDwXClI9uCX"
      },
      "outputs": [
        {
          "name": "stdout",
          "output_type": "stream",
          "text": [
            "regret before: 24.695796260521263, regret after: 4.869838648985535\n"
          ]
        }
      ],
      "source": [
        "# regret\n",
        "## YOUR SOLUTION\n",
        "preceived_val_all_after = df_new.loc[df_new['perceived_val'].idxmax(), 'perceived_val']\n",
        "preceived_val_all_before = df.loc[df['perceived_val'].idxmax(), 'perceived_val']\n",
        "regret_before = np.abs(welfare_before - preceived_val_all_before)\n",
        "regret_after = np.abs(welfare_after - preceived_val_all_after)\n",
        "print(f\"regret before: {regret_before}, regret after: {regret_after}\")"
      ]
    },
    {
      "cell_type": "markdown",
      "metadata": {
        "id": "AM8nQec-zEDN"
      },
      "source": [
        "### 1.2 **Now You: Find an item to add without any guidance**\n",
        "\n",
        "In this section, your goal is to repeat the task of finding an item to add, but without guidance - we will just give you the sets $\\Omega$ and $\\Omega'$.\n"
      ]
    },
    {
      "cell_type": "code",
      "execution_count": 62,
      "metadata": {
        "id": "uO3zDK4DzHCn"
      },
      "outputs": [
        {
          "data": {
            "text/html": [
              "<div>\n",
              "<style scoped>\n",
              "    .dataframe tbody tr th:only-of-type {\n",
              "        vertical-align: middle;\n",
              "    }\n",
              "\n",
              "    .dataframe tbody tr th {\n",
              "        vertical-align: top;\n",
              "    }\n",
              "\n",
              "    .dataframe thead th {\n",
              "        text-align: right;\n",
              "    }\n",
              "</style>\n",
              "<table border=\"1\" class=\"dataframe\">\n",
              "  <thead>\n",
              "    <tr style=\"text-align: right;\">\n",
              "      <th></th>\n",
              "      <th>index</th>\n",
              "      <th>0</th>\n",
              "      <th>1</th>\n",
              "      <th>user_id</th>\n",
              "      <th>slate_id</th>\n",
              "      <th>rantional_user_val</th>\n",
              "      <th>E_s</th>\n",
              "      <th>name</th>\n",
              "    </tr>\n",
              "  </thead>\n",
              "  <tbody>\n",
              "    <tr>\n",
              "      <th>0</th>\n",
              "      <td>0</td>\n",
              "      <td>3.0</td>\n",
              "      <td>8.0</td>\n",
              "      <td>0.0</td>\n",
              "      <td>0.0</td>\n",
              "      <td>75.0</td>\n",
              "      <td>10</td>\n",
              "      <td>A</td>\n",
              "    </tr>\n",
              "    <tr>\n",
              "      <th>1</th>\n",
              "      <td>1</td>\n",
              "      <td>8.0</td>\n",
              "      <td>7.0</td>\n",
              "      <td>0.0</td>\n",
              "      <td>0.0</td>\n",
              "      <td>71.0</td>\n",
              "      <td>90</td>\n",
              "      <td>B</td>\n",
              "    </tr>\n",
              "    <tr>\n",
              "      <th>2</th>\n",
              "      <td>2</td>\n",
              "      <td>8.5</td>\n",
              "      <td>4.0</td>\n",
              "      <td>0.0</td>\n",
              "      <td>0.0</td>\n",
              "      <td>44.5</td>\n",
              "      <td>30</td>\n",
              "      <td>C</td>\n",
              "    </tr>\n",
              "    <tr>\n",
              "      <th>3</th>\n",
              "      <td>3</td>\n",
              "      <td>4.0</td>\n",
              "      <td>4.0</td>\n",
              "      <td>0.0</td>\n",
              "      <td>0.0</td>\n",
              "      <td>40.0</td>\n",
              "      <td>50</td>\n",
              "      <td>D</td>\n",
              "    </tr>\n",
              "    <tr>\n",
              "      <th>4</th>\n",
              "      <td>4</td>\n",
              "      <td>10.0</td>\n",
              "      <td>5.0</td>\n",
              "      <td>0.0</td>\n",
              "      <td>0.0</td>\n",
              "      <td>55.0</td>\n",
              "      <td>30</td>\n",
              "      <td>E</td>\n",
              "    </tr>\n",
              "    <tr>\n",
              "      <th>5</th>\n",
              "      <td>5</td>\n",
              "      <td>8.0</td>\n",
              "      <td>6.0</td>\n",
              "      <td>0.0</td>\n",
              "      <td>0.0</td>\n",
              "      <td>62.0</td>\n",
              "      <td>40</td>\n",
              "      <td>F</td>\n",
              "    </tr>\n",
              "    <tr>\n",
              "      <th>6</th>\n",
              "      <td>6</td>\n",
              "      <td>2.0</td>\n",
              "      <td>1.0</td>\n",
              "      <td>0.0</td>\n",
              "      <td>0.0</td>\n",
              "      <td>11.0</td>\n",
              "      <td>100</td>\n",
              "      <td>G</td>\n",
              "    </tr>\n",
              "    <tr>\n",
              "      <th>7</th>\n",
              "      <td>7</td>\n",
              "      <td>1.0</td>\n",
              "      <td>8.0</td>\n",
              "      <td>0.0</td>\n",
              "      <td>0.0</td>\n",
              "      <td>73.0</td>\n",
              "      <td>90</td>\n",
              "      <td>H</td>\n",
              "    </tr>\n",
              "  </tbody>\n",
              "</table>\n",
              "</div>"
            ],
            "text/plain": [
              "   index     0    1  user_id  slate_id  rantional_user_val  E_s name\n",
              "0      0   3.0  8.0      0.0       0.0                75.0   10    A\n",
              "1      1   8.0  7.0      0.0       0.0                71.0   90    B\n",
              "2      2   8.5  4.0      0.0       0.0                44.5   30    C\n",
              "3      3   4.0  4.0      0.0       0.0                40.0   50    D\n",
              "4      4  10.0  5.0      0.0       0.0                55.0   30    E\n",
              "5      5   8.0  6.0      0.0       0.0                62.0   40    F\n",
              "6      6   2.0  1.0      0.0       0.0                11.0  100    G\n",
              "7      7   1.0  8.0      0.0       0.0                73.0   90    H"
            ]
          },
          "execution_count": 62,
          "metadata": {},
          "output_type": "execute_result"
        }
      ],
      "source": [
        "# New data:\n",
        "attraction_env = ContextChoiceEnvironment(slate_number=2)\n",
        "attraction_env.inspect_data(items_type=\"current\")"
      ]
    },
    {
      "cell_type": "code",
      "execution_count": 63,
      "metadata": {
        "id": "Y5ZyQ8lJa5Mt"
      },
      "outputs": [
        {
          "data": {
            "text/html": [
              "<div>\n",
              "<style scoped>\n",
              "    .dataframe tbody tr th:only-of-type {\n",
              "        vertical-align: middle;\n",
              "    }\n",
              "\n",
              "    .dataframe tbody tr th {\n",
              "        vertical-align: top;\n",
              "    }\n",
              "\n",
              "    .dataframe thead th {\n",
              "        text-align: right;\n",
              "    }\n",
              "</style>\n",
              "<table border=\"1\" class=\"dataframe\">\n",
              "  <thead>\n",
              "    <tr style=\"text-align: right;\">\n",
              "      <th></th>\n",
              "      <th>index</th>\n",
              "      <th>0</th>\n",
              "      <th>1</th>\n",
              "      <th>user_id</th>\n",
              "      <th>slate_id</th>\n",
              "      <th>rantional_user_val</th>\n",
              "      <th>E_s</th>\n",
              "      <th>name</th>\n",
              "    </tr>\n",
              "  </thead>\n",
              "  <tbody>\n",
              "    <tr>\n",
              "      <th>0</th>\n",
              "      <td>0</td>\n",
              "      <td>4.0</td>\n",
              "      <td>8.0</td>\n",
              "      <td>0.0</td>\n",
              "      <td>0.0</td>\n",
              "      <td>76.0</td>\n",
              "      <td>5</td>\n",
              "      <td>J</td>\n",
              "    </tr>\n",
              "    <tr>\n",
              "      <th>1</th>\n",
              "      <td>1</td>\n",
              "      <td>3.0</td>\n",
              "      <td>6.0</td>\n",
              "      <td>0.0</td>\n",
              "      <td>0.0</td>\n",
              "      <td>57.0</td>\n",
              "      <td>8</td>\n",
              "      <td>K</td>\n",
              "    </tr>\n",
              "    <tr>\n",
              "      <th>2</th>\n",
              "      <td>2</td>\n",
              "      <td>4.5</td>\n",
              "      <td>5.0</td>\n",
              "      <td>0.0</td>\n",
              "      <td>0.0</td>\n",
              "      <td>49.5</td>\n",
              "      <td>3</td>\n",
              "      <td>L</td>\n",
              "    </tr>\n",
              "    <tr>\n",
              "      <th>3</th>\n",
              "      <td>3</td>\n",
              "      <td>6.0</td>\n",
              "      <td>6.0</td>\n",
              "      <td>0.0</td>\n",
              "      <td>0.0</td>\n",
              "      <td>60.0</td>\n",
              "      <td>9</td>\n",
              "      <td>M</td>\n",
              "    </tr>\n",
              "  </tbody>\n",
              "</table>\n",
              "</div>"
            ],
            "text/plain": [
              "   index    0    1  user_id  slate_id  rantional_user_val  E_s name\n",
              "0      0  4.0  8.0      0.0       0.0                76.0    5    J\n",
              "1      1  3.0  6.0      0.0       0.0                57.0    8    K\n",
              "2      2  4.5  5.0      0.0       0.0                49.5    3    L\n",
              "3      3  6.0  6.0      0.0       0.0                60.0    9    M"
            ]
          },
          "execution_count": 63,
          "metadata": {},
          "output_type": "execute_result"
        }
      ],
      "source": [
        "attraction_env.inspect_data(items_type=\"tag\")"
      ]
    },
    {
      "cell_type": "markdown",
      "metadata": {
        "id": "9m-_jCJ5Rk6y"
      },
      "source": [
        "1.2.1 Add code in the given blocks to generate relevant scatter plots. Use these to reason about which item to add - write your answer and explanation in the relevant blocks.\n"
      ]
    },
    {
      "cell_type": "code",
      "execution_count": 64,
      "metadata": {},
      "outputs": [
        {
          "data": {
            "text/html": [
              "<div>\n",
              "<style scoped>\n",
              "    .dataframe tbody tr th:only-of-type {\n",
              "        vertical-align: middle;\n",
              "    }\n",
              "\n",
              "    .dataframe tbody tr th {\n",
              "        vertical-align: top;\n",
              "    }\n",
              "\n",
              "    .dataframe thead th {\n",
              "        text-align: right;\n",
              "    }\n",
              "</style>\n",
              "<table border=\"1\" class=\"dataframe\">\n",
              "  <thead>\n",
              "    <tr style=\"text-align: right;\">\n",
              "      <th></th>\n",
              "      <th>index</th>\n",
              "      <th>0</th>\n",
              "      <th>1</th>\n",
              "      <th>user_id</th>\n",
              "      <th>slate_id</th>\n",
              "      <th>name</th>\n",
              "      <th>rantional_user_val</th>\n",
              "      <th>top_5</th>\n",
              "      <th>perceived_val</th>\n",
              "      <th>chosen</th>\n",
              "    </tr>\n",
              "  </thead>\n",
              "  <tbody>\n",
              "    <tr>\n",
              "      <th>0</th>\n",
              "      <td>0</td>\n",
              "      <td>3.0</td>\n",
              "      <td>8.0</td>\n",
              "      <td>0.0</td>\n",
              "      <td>0.0</td>\n",
              "      <td>A</td>\n",
              "      <td>75.0</td>\n",
              "      <td>True</td>\n",
              "      <td>80.692100</td>\n",
              "      <td>True</td>\n",
              "    </tr>\n",
              "    <tr>\n",
              "      <th>1</th>\n",
              "      <td>1</td>\n",
              "      <td>8.0</td>\n",
              "      <td>7.0</td>\n",
              "      <td>0.0</td>\n",
              "      <td>0.0</td>\n",
              "      <td>B</td>\n",
              "      <td>71.0</td>\n",
              "      <td>True</td>\n",
              "      <td>71.948683</td>\n",
              "      <td>False</td>\n",
              "    </tr>\n",
              "    <tr>\n",
              "      <th>2</th>\n",
              "      <td>2</td>\n",
              "      <td>8.5</td>\n",
              "      <td>4.0</td>\n",
              "      <td>0.0</td>\n",
              "      <td>0.0</td>\n",
              "      <td>C</td>\n",
              "      <td>44.5</td>\n",
              "      <td>False</td>\n",
              "      <td>NaN</td>\n",
              "      <td>False</td>\n",
              "    </tr>\n",
              "    <tr>\n",
              "      <th>3</th>\n",
              "      <td>3</td>\n",
              "      <td>4.0</td>\n",
              "      <td>4.0</td>\n",
              "      <td>0.0</td>\n",
              "      <td>0.0</td>\n",
              "      <td>D</td>\n",
              "      <td>40.0</td>\n",
              "      <td>False</td>\n",
              "      <td>NaN</td>\n",
              "      <td>False</td>\n",
              "    </tr>\n",
              "    <tr>\n",
              "      <th>4</th>\n",
              "      <td>4</td>\n",
              "      <td>10.0</td>\n",
              "      <td>5.0</td>\n",
              "      <td>0.0</td>\n",
              "      <td>0.0</td>\n",
              "      <td>E</td>\n",
              "      <td>55.0</td>\n",
              "      <td>True</td>\n",
              "      <td>55.000000</td>\n",
              "      <td>False</td>\n",
              "    </tr>\n",
              "    <tr>\n",
              "      <th>5</th>\n",
              "      <td>5</td>\n",
              "      <td>8.0</td>\n",
              "      <td>6.0</td>\n",
              "      <td>0.0</td>\n",
              "      <td>0.0</td>\n",
              "      <td>F</td>\n",
              "      <td>62.0</td>\n",
              "      <td>True</td>\n",
              "      <td>61.051317</td>\n",
              "      <td>False</td>\n",
              "    </tr>\n",
              "    <tr>\n",
              "      <th>6</th>\n",
              "      <td>6</td>\n",
              "      <td>2.0</td>\n",
              "      <td>1.0</td>\n",
              "      <td>0.0</td>\n",
              "      <td>0.0</td>\n",
              "      <td>G</td>\n",
              "      <td>11.0</td>\n",
              "      <td>False</td>\n",
              "      <td>NaN</td>\n",
              "      <td>False</td>\n",
              "    </tr>\n",
              "    <tr>\n",
              "      <th>7</th>\n",
              "      <td>7</td>\n",
              "      <td>1.0</td>\n",
              "      <td>8.0</td>\n",
              "      <td>0.0</td>\n",
              "      <td>0.0</td>\n",
              "      <td>H</td>\n",
              "      <td>73.0</td>\n",
              "      <td>True</td>\n",
              "      <td>67.307900</td>\n",
              "      <td>False</td>\n",
              "    </tr>\n",
              "  </tbody>\n",
              "</table>\n",
              "</div>"
            ],
            "text/plain": [
              "   index     0    1  user_id  slate_id name  rantional_user_val  top_5  \\\n",
              "0      0   3.0  8.0      0.0       0.0    A                75.0   True   \n",
              "1      1   8.0  7.0      0.0       0.0    B                71.0   True   \n",
              "2      2   8.5  4.0      0.0       0.0    C                44.5  False   \n",
              "3      3   4.0  4.0      0.0       0.0    D                40.0  False   \n",
              "4      4  10.0  5.0      0.0       0.0    E                55.0   True   \n",
              "5      5   8.0  6.0      0.0       0.0    F                62.0   True   \n",
              "6      6   2.0  1.0      0.0       0.0    G                11.0  False   \n",
              "7      7   1.0  8.0      0.0       0.0    H                73.0   True   \n",
              "\n",
              "   perceived_val  chosen  \n",
              "0      80.692100    True  \n",
              "1      71.948683   False  \n",
              "2            NaN   False  \n",
              "3            NaN   False  \n",
              "4      55.000000   False  \n",
              "5      61.051317   False  \n",
              "6            NaN   False  \n",
              "7      67.307900   False  "
            ]
          },
          "execution_count": 64,
          "metadata": {},
          "output_type": "execute_result"
        }
      ],
      "source": [
        "df = attraction_env.generate_datasets()\n",
        "df"
      ]
    },
    {
      "cell_type": "code",
      "execution_count": 65,
      "metadata": {
        "id": "76oYR8_UVvnT"
      },
      "outputs": [
        {
          "data": {
            "image/png": "[encoded data removed]",
            "text/plain": [
              "<Figure size 640x480 with 1 Axes>"
            ]
          },
          "metadata": {
            "image/png": {
              "height": 463,
              "width": 554
            }
          },
          "output_type": "display_data"
        }
      ],
      "source": [
        "## YOUR SOLUTION\n",
        "attraction_env.plot_omega()"
      ]
    },
    {
      "cell_type": "code",
      "execution_count": 66,
      "metadata": {
        "id": "Fiyjd1q2wkdo"
      },
      "outputs": [
        {
          "data": {
            "image/png": "[encoded data removed]",
            "text/plain": [
              "<Figure size 640x480 with 1 Axes>"
            ]
          },
          "metadata": {
            "image/png": {
              "height": 463,
              "width": 554
            }
          },
          "output_type": "display_data"
        }
      ],
      "source": [
        "## YOUR SOLUTION\n",
        "attraction_env.plot_two_sets()"
      ]
    },
    {
      "cell_type": "markdown",
      "metadata": {
        "id": "Cdg-QyKkivvQ"
      },
      "source": [
        "**Which item will you add and why?** (you can use the code to experiment)"
      ]
    },
    {
      "cell_type": "markdown",
      "metadata": {
        "id": "kSC6E4oamDcK"
      },
      "source": [
        "\n",
        "\n",
        "````\n",
        "Answer: When Looking at the options the user will choose from, it is clear that A, which is the item that recieve the most rational value (and percieved value in the original dataset) gives the system the lowest value - so any modification will improve this for the system. \n",
        "Point G, which gives the most system value, will not be chosen (because it's rational value is too low) and item H will never be chosen over item A (as A dominates H). so we need to focus on maximizing the value - which is them item B. Also, When looking at the set of 5 top items, B has the highest system value of all of them (90). And so, we want to use attraction to make B chosen instead of A. We have 4 choices of items to add:\n",
        "J - Which has lower system value then A but also dominates A - which then will make the user chose J and the system value will decrease.\n",
        "L - this item has lower rational value (49.5) then the current top 5 items in the set - it will not be chosen and the attrection value will stay the same - choosing A again.\n",
        "M - while at first sight it seems that M will improve the system's utility (B dominates M), as it helps attrects item B (and not item A), the delta in attrection we get for item B by adding item M is not enough for item B to be percieved more then item A.\n",
        "K - this item is dominated by both A and B, so at first glance it will help them both and therefore will not help B become more valued then A. but if we take the distance of the Items, we see item B is way further from item K them item A. This distance helps B overcome A, as Item B will be percieved as more valuable.\n",
        "P.S: Each item we add will remove item E from the top 5 items (besides from item L) and item E is not dominated be any other item.\n",
        "```\n",
        "\n"
      ]
    },
    {
      "cell_type": "code",
      "execution_count": null,
      "metadata": {},
      "outputs": [],
      "source": []
    },
    {
      "cell_type": "markdown",
      "metadata": {
        "id": "6O0YEMXJRm8f"
      },
      "source": [
        "1.2.2 Add code to generate the final plot, showing recommendations and choice after you have added the additional item."
      ]
    },
    {
      "cell_type": "code",
      "execution_count": 67,
      "metadata": {
        "id": "Wum1D-NSi4AK"
      },
      "outputs": [
        {
          "data": {
            "image/png": "[encoded data removed]",
            "text/plain": [
              "<Figure size 640x480 with 1 Axes>"
            ]
          },
          "metadata": {
            "image/png": {
              "height": 463,
              "width": 554
            }
          },
          "output_type": "display_data"
        }
      ],
      "source": [
        "## YOUR SOLUTION\n",
        "# Add new item to S\n",
        "# let's add the third item in the tag set to the current set\n",
        "index = 1 #this is the index of H in Omega'\n",
        "attraction_env.add_item(index=index)\n",
        "\n",
        "attraction_env.plot_omega()\n",
        "\n",
        "df_new = attraction_env.generate_datasets()\n"
      ]
    },
    {
      "cell_type": "code",
      "execution_count": 69,
      "metadata": {},
      "outputs": [
        {
          "data": {
            "text/html": [
              "<div>\n",
              "<style scoped>\n",
              "    .dataframe tbody tr th:only-of-type {\n",
              "        vertical-align: middle;\n",
              "    }\n",
              "\n",
              "    .dataframe tbody tr th {\n",
              "        vertical-align: top;\n",
              "    }\n",
              "\n",
              "    .dataframe thead th {\n",
              "        text-align: right;\n",
              "    }\n",
              "</style>\n",
              "<table border=\"1\" class=\"dataframe\">\n",
              "  <thead>\n",
              "    <tr style=\"text-align: right;\">\n",
              "      <th></th>\n",
              "      <th>index</th>\n",
              "      <th>0</th>\n",
              "      <th>1</th>\n",
              "      <th>user_id</th>\n",
              "      <th>slate_id</th>\n",
              "      <th>name</th>\n",
              "      <th>rantional_user_val</th>\n",
              "      <th>top_5</th>\n",
              "      <th>perceived_val</th>\n",
              "      <th>chosen</th>\n",
              "    </tr>\n",
              "  </thead>\n",
              "  <tbody>\n",
              "    <tr>\n",
              "      <th>0</th>\n",
              "      <td>0</td>\n",
              "      <td>3.0</td>\n",
              "      <td>8.0</td>\n",
              "      <td>0.0</td>\n",
              "      <td>0.0</td>\n",
              "      <td>A</td>\n",
              "      <td>75.0</td>\n",
              "      <td>True</td>\n",
              "      <td>82.417470</td>\n",
              "      <td>False</td>\n",
              "    </tr>\n",
              "    <tr>\n",
              "      <th>1</th>\n",
              "      <td>1</td>\n",
              "      <td>8.0</td>\n",
              "      <td>7.0</td>\n",
              "      <td>0.0</td>\n",
              "      <td>0.0</td>\n",
              "      <td>B</td>\n",
              "      <td>71.0</td>\n",
              "      <td>True</td>\n",
              "      <td>87.071186</td>\n",
              "      <td>True</td>\n",
              "    </tr>\n",
              "    <tr>\n",
              "      <th>2</th>\n",
              "      <td>2</td>\n",
              "      <td>8.5</td>\n",
              "      <td>4.0</td>\n",
              "      <td>0.0</td>\n",
              "      <td>0.0</td>\n",
              "      <td>C</td>\n",
              "      <td>44.5</td>\n",
              "      <td>False</td>\n",
              "      <td>NaN</td>\n",
              "      <td>False</td>\n",
              "    </tr>\n",
              "    <tr>\n",
              "      <th>3</th>\n",
              "      <td>3</td>\n",
              "      <td>4.0</td>\n",
              "      <td>4.0</td>\n",
              "      <td>0.0</td>\n",
              "      <td>0.0</td>\n",
              "      <td>D</td>\n",
              "      <td>40.0</td>\n",
              "      <td>False</td>\n",
              "      <td>NaN</td>\n",
              "      <td>False</td>\n",
              "    </tr>\n",
              "    <tr>\n",
              "      <th>4</th>\n",
              "      <td>4</td>\n",
              "      <td>10.0</td>\n",
              "      <td>5.0</td>\n",
              "      <td>0.0</td>\n",
              "      <td>0.0</td>\n",
              "      <td>E</td>\n",
              "      <td>55.0</td>\n",
              "      <td>False</td>\n",
              "      <td>NaN</td>\n",
              "      <td>False</td>\n",
              "    </tr>\n",
              "    <tr>\n",
              "      <th>5</th>\n",
              "      <td>5</td>\n",
              "      <td>8.0</td>\n",
              "      <td>6.0</td>\n",
              "      <td>0.0</td>\n",
              "      <td>0.0</td>\n",
              "      <td>F</td>\n",
              "      <td>62.0</td>\n",
              "      <td>True</td>\n",
              "      <td>75.598696</td>\n",
              "      <td>False</td>\n",
              "    </tr>\n",
              "    <tr>\n",
              "      <th>6</th>\n",
              "      <td>6</td>\n",
              "      <td>2.0</td>\n",
              "      <td>1.0</td>\n",
              "      <td>0.0</td>\n",
              "      <td>0.0</td>\n",
              "      <td>G</td>\n",
              "      <td>11.0</td>\n",
              "      <td>False</td>\n",
              "      <td>NaN</td>\n",
              "      <td>False</td>\n",
              "    </tr>\n",
              "    <tr>\n",
              "      <th>7</th>\n",
              "      <td>7</td>\n",
              "      <td>1.0</td>\n",
              "      <td>8.0</td>\n",
              "      <td>0.0</td>\n",
              "      <td>0.0</td>\n",
              "      <td>H</td>\n",
              "      <td>73.0</td>\n",
              "      <td>True</td>\n",
              "      <td>67.230856</td>\n",
              "      <td>False</td>\n",
              "    </tr>\n",
              "    <tr>\n",
              "      <th>8</th>\n",
              "      <td>8</td>\n",
              "      <td>3.0</td>\n",
              "      <td>6.0</td>\n",
              "      <td>0.0</td>\n",
              "      <td>0.0</td>\n",
              "      <td>I</td>\n",
              "      <td>57.0</td>\n",
              "      <td>True</td>\n",
              "      <td>25.681791</td>\n",
              "      <td>False</td>\n",
              "    </tr>\n",
              "  </tbody>\n",
              "</table>\n",
              "</div>"
            ],
            "text/plain": [
              "   index     0    1  user_id  slate_id name  rantional_user_val  top_5  \\\n",
              "0      0   3.0  8.0      0.0       0.0    A                75.0   True   \n",
              "1      1   8.0  7.0      0.0       0.0    B                71.0   True   \n",
              "2      2   8.5  4.0      0.0       0.0    C                44.5  False   \n",
              "3      3   4.0  4.0      0.0       0.0    D                40.0  False   \n",
              "4      4  10.0  5.0      0.0       0.0    E                55.0  False   \n",
              "5      5   8.0  6.0      0.0       0.0    F                62.0   True   \n",
              "6      6   2.0  1.0      0.0       0.0    G                11.0  False   \n",
              "7      7   1.0  8.0      0.0       0.0    H                73.0   True   \n",
              "8      8   3.0  6.0      0.0       0.0    I                57.0   True   \n",
              "\n",
              "   perceived_val  chosen  \n",
              "0      82.417470   False  \n",
              "1      87.071186    True  \n",
              "2            NaN   False  \n",
              "3            NaN   False  \n",
              "4            NaN   False  \n",
              "5      75.598696   False  \n",
              "6            NaN   False  \n",
              "7      67.230856   False  \n",
              "8      25.681791   False  "
            ]
          },
          "execution_count": 69,
          "metadata": {},
          "output_type": "execute_result"
        }
      ],
      "source": [
        "df_new"
      ]
    },
    {
      "cell_type": "markdown",
      "metadata": {
        "id": "ViyT713yuuTT"
      },
      "source": [
        "1.2.3 Calculate welfare and regret for before and after adding the additional item. Print your results.\n"
      ]
    },
    {
      "cell_type": "code",
      "execution_count": 68,
      "metadata": {
        "id": "jeTXEPz8jFSU"
      },
      "outputs": [
        {
          "name": "stdout",
          "output_type": "stream",
          "text": [
            "wellfare before: 75.0, wellfare after: 71.0\n",
            "regret before: 5.692099788303082, regret after: 16.07118598199662\n"
          ]
        }
      ],
      "source": [
        "## YOUR SOLUTION\n",
        "welfare_before = df.loc[df['perceived_val'].idxmax(), 'rantional_user_val']\n",
        "welfare_after = df_new.loc[df_new['perceived_val'].idxmax(), 'rantional_user_val']\n",
        "print(f\"wellfare before: {welfare_before}, wellfare after: {welfare_after}\")\n",
        "preceived_val_all_after = df_new.loc[df_new['perceived_val'].idxmax(), 'perceived_val']\n",
        "preceived_val_all_before = df.loc[df['perceived_val'].idxmax(), 'perceived_val']\n",
        "regret_before = np.abs(welfare_before - preceived_val_all_before)\n",
        "regret_after = np.abs(welfare_after - preceived_val_all_after)\n",
        "print(f\"regret before: {regret_before}, regret after: {regret_after}\")"
      ]
    },
    {
      "cell_type": "markdown",
      "metadata": {
        "id": "gANnqHEU65SN"
      },
      "source": [
        "# Ex 2: your ranker\n",
        "\n",
        "Here you implement your ranking algorithm class."
      ]
    },
    {
      "cell_type": "markdown",
      "metadata": {
        "id": "m6GbT-sN73z6"
      },
      "source": [
        "Load Train and test datasets:"
      ]
    },
    {
      "cell_type": "code",
      "execution_count": 19,
      "metadata": {
        "id": "G8CV0lrz7EL9"
      },
      "outputs": [],
      "source": [
        "import pickle\n",
        "import numpy as np\n",
        "\n",
        "# Load test data\n",
        "with open('test.pkl', 'rb') as f:\n",
        "    test_data = pickle.load(f)\n",
        "\n",
        "with open('test_labels.pkl', 'rb') as f:\n",
        "    test_labels = pickle.load(f)\n",
        "\n",
        "# Load train data\n",
        "with open('train.pkl', 'rb') as f:\n",
        "    train_data = pickle.load(f)\n",
        "\n",
        "with open('train_labels.pkl', 'rb') as f:\n",
        "    train_labels = pickle.load(f)\n",
        "    \n",
        "\n",
        "def add_dimension(data, idx):\n",
        "    keys = np.unique(data[:, idx])\n",
        "    groups = {}\n",
        "    for key in keys:\n",
        "        groups[key] = data[data[:, idx] == key]\n",
        "        groups[key] = np.delete(groups[key], idx, axis=1)\n",
        "    return np.array([groups[key] for key in keys])\n",
        "    \n",
        "    \n",
        "    \n",
        "\n",
        "train_data = add_dimension(train_data, 0)\n",
        "test_data = add_dimension(test_data, 0)\n",
        "train_labels = add_dimension(train_labels, 1)\n",
        "train_labels = train_labels.squeeze(axis=2)\n",
        "train_labels = np.argmax(train_labels, axis=1)\n",
        "test_labels = test_labels.reshape(-1,7)\n",
        "test_labels = np.argmax(test_labels, axis=1)\n"
      ]
    },
    {
      "cell_type": "markdown",
      "metadata": {
        "id": "5g8q0JWe8L2E"
      },
      "source": [
        "Your Ranker implementation"
      ]
    },
    {
      "cell_type": "code",
      "execution_count": 49,
      "metadata": {
        "id": "2l1goVgQ8Rb6"
      },
      "outputs": [],
      "source": [
        "## YOUR SOLUTION\n",
        "    \n",
        "def transform_pairwise(choice_set, y):\n",
        "    \"\"\"\n",
        "    Creates a binary dataset from a list of choice sets and chosen items.\n",
        "    \n",
        "    :param choice_sets: List of arrays. Each element is an array of shape (m_i, d) representing a choice set.\n",
        "    :param chosen_items: List of arrays. Each element is a 1D array of shape (d,) representing the chosen item.\n",
        "    \n",
        "    :return: X_bar, y_bar\n",
        "        X_bar: np.array of shape (M, d) where M is the total number of generated pairwise comparisons\n",
        "        y_bar: np.array of shape (M,) where labels are in {+1, -1}\n",
        "    \"\"\"\n",
        "    X_bar = []\n",
        "    y_bar = []\n",
        "    np.random.seed(42)\n",
        "\n",
        "    \n",
        "    for i, possible_item in enumerate(choice_set):\n",
        "        if i == y:\n",
        "            continue\n",
        "        \n",
        "        s = 1 if np.random.rand() < 0.5 else -1\n",
        "        \n",
        "        x_bar = s*(y - possible_item)\n",
        "        label = s\n",
        "        \n",
        "        X_bar.append(x_bar)\n",
        "        y_bar.append(label)\n",
        "    \n",
        "    X_bar = np.array(X_bar)\n",
        "    y_bar = np.array(y_bar)\n",
        "    return X_bar, y_bar"
      ]
    },
    {
      "cell_type": "code",
      "execution_count": 51,
      "metadata": {},
      "outputs": [
        {
          "name": "stdout",
          "output_type": "stream",
          "text": [
            "(400, 7, 5)\n",
            "(2400, 5)\n",
            "acc: 0.8\n"
          ]
        },
        {
          "name": "stderr",
          "output_type": "stream",
          "text": [
            "/Users/arielshalem/miniconda3/envs/cs236781-hw2/lib/python3.8/site-packages/sklearn/svm/_classes.py:32: FutureWarning: The default value of `dual` will change from `True` to `'auto'` in 1.5. Set the value of `dual` explicitly to suppress the warning.\n",
            "  warnings.warn(\n",
            "/Users/arielshalem/miniconda3/envs/cs236781-hw2/lib/python3.8/site-packages/sklearn/svm/_base.py:1250: ConvergenceWarning: Liblinear failed to converge, increase the number of iterations.\n",
            "  warnings.warn(\n"
          ]
        }
      ],
      "source": [
        "class MyRanker(svm.LinearSVC):\n",
        "    def shape_transform(self, X, y):\n",
        "        \"\"\"\n",
        "        Transforms the input dataset into a binary-labeled dataset using transform_pairwise.\n",
        "        \n",
        "        :param X: numpy array of shape (m, n, q)\n",
        "        :param y: numpy array of shape (m,)\n",
        "        :return: X_prime, y_prime\n",
        "            X_prime: numpy array of shape (m_prime, n_prime, q)\n",
        "            y_prime: numpy array of shape (m_prime,)\n",
        "        \"\"\"\n",
        "        # Apply transform_pairwise to each example in the input dataset\n",
        "        X_prime = []\n",
        "        y_prime = []\n",
        "        \n",
        "        for i in range(len(X)):\n",
        "            X_i, y_i = transform_pairwise(X[i], y[i])\n",
        "            X_prime.append(X_i)\n",
        "            y_prime.append(y_i)\n",
        "        \n",
        "        # Concatenate the transformed examples\n",
        "        X_prime = np.concatenate(X_prime)\n",
        "        y_prime = np.concatenate(y_prime)\n",
        "        \n",
        "        return X_prime, y_prime\n",
        "    \n",
        "    def fit(self, X, y):\n",
        "        \"\"\"\n",
        "        Fits svm.LinearSVC to the transformed binary-labeled dataset.\n",
        "        \n",
        "        :param X: numpy array of shape (m, n, q)\n",
        "        :param y: numpy array of shape (m,)\n",
        "        :return: self\n",
        "        \"\"\"\n",
        "        print(X.shape)\n",
        "        X_prime, y_prime = self.shape_transform(X, y)\n",
        "        print(X_prime.shape)\n",
        "        super().fit(X_prime, y_prime)\n",
        "        return self\n",
        "    \n",
        "    def predict(self, X):\n",
        "        \"\"\"\n",
        "        Predicts using the argmax rule and the coefficients of the learned SVM model.\n",
        "        \n",
        "        :param X: numpy array of shape (m, n, q)\n",
        "        :return: y, numpy array of shape (m,), index of top choice per slate\n",
        "        \"\"\"\n",
        "        y_pred = []\n",
        "        for slate in range(len(X)):\n",
        "            y_pred.append(np.argmax([self.decision_function(X[slate])]))\n",
        "        return np.array(y_pred)\n",
        "    \n",
        "\n",
        "ranker = MyRanker(max_iter=100 )\n",
        "\n",
        "# X, y = ranker.shape_transform(train_data, train_labels)\n",
        "ranker.fit(train_data, train_labels)\n",
        "y_pred = ranker.predict(test_data)  \n",
        "print(f'acc: {np.mean(y_pred == test_labels)}')\n"
      ]
    },
    {
      "cell_type": "markdown",
      "metadata": {
        "id": "Nwk5Zh8e8Vol"
      },
      "source": [
        "Test Your ranker with the example inputs, print accuracy."
      ]
    },
    {
      "cell_type": "code",
      "execution_count": 52,
      "metadata": {
        "id": "TyIbsKxz8c5f"
      },
      "outputs": [
        {
          "name": "stdout",
          "output_type": "stream",
          "text": [
            "acc: 0.7575\n"
          ]
        }
      ],
      "source": [
        "## YOUR SOLUTION\n",
        "print(f'acc: {np.mean(ranker.predict(train_data)  == train_labels)}')"
      ]
    }
  ],
  "metadata": {
    "colab": {
      "provenance": []
    },
    "kernelspec": {
      "display_name": "Python 3",
      "language": "python",
      "name": "python3"
    },
    "language_info": {
      "codemirror_mode": {
        "name": "ipython",
        "version": 3
      },
      "file_extension": ".py",
      "mimetype": "text/x-python",
      "name": "python",
      "nbconvert_exporter": "python",
      "pygments_lexer": "ipython3",
      "version": "3.8.12"
    }
  },
  "nbformat": 4,
  "nbformat_minor": 0
}
