{
  "nbformat": 4,
  "nbformat_minor": 0,
  "metadata": {
    "colab": {
      "provenance": []
    },
    "kernelspec": {
      "display_name": "Python 3",
      "language": "python",
      "name": "python3"
    },
    "language_info": {
      "codemirror_mode": {
        "name": "ipython",
        "version": 3
      },
      "file_extension": ".py",
      "mimetype": "text/x-python",
      "name": "python",
      "nbconvert_exporter": "python",
      "pygments_lexer": "ipython3",
      "version": "3.8.3"
    }
  },
  "cells": [
    {
      "cell_type": "markdown",
      "metadata": {
        "id": "9Mpd38HztkAh"
      },
      "source": [
        "<center>\n",
        "<h1>236606 - Machine Learning and Human Behavior</h1>\n",
        "<h2>Homework #2 - Discrete Choice ✨</h2>\n",
        "</center>"
      ]
    },
    {
      "cell_type": "markdown",
      "metadata": {
        "id": "MWK5QJd7opXM"
      },
      "source": [
        "## Preliminaries\n",
        "Run these cells to load into memory objects and functions that will be used throughtout the homework."
      ]
    },
    {
      "cell_type": "code",
      "metadata": {
        "id": "25Ie6znsg1gU"
      },
      "source": [
        "#@title Imports\n",
        "import numpy as np\n",
        "import matplotlib.pyplot as plt\n",
        "import pandas as pd\n",
        "import abc\n",
        "import string\n",
        "import statsmodels.api as sm\n",
        "import itertools\n",
        "from sklearn import svm, linear_model\n",
        "import pandas as pd\n",
        "import sys\n",
        "import pickle as pkl\n",
        "\n",
        "from collections import OrderedDict\n",
        "\n",
        "%config InlineBackend.figure_format = 'retina'"
      ],
      "execution_count": null,
      "outputs": []
    },
    {
      "cell_type": "code",
      "metadata": {
        "id": "-57rrztworxu",
        "cellView": "form"
      },
      "source": [
        "#@title Context Effect\n",
        "# user model types\n",
        "\n",
        "# Generate Choice\n",
        "\n",
        "class UserModel(abc.ABC):\n",
        "  @abc.abstractclassmethod\n",
        "  def __call__(self, X, *args):\n",
        "    '''\n",
        "    Given items X, calculate the user's valuation v(x) for each item x\n",
        "    '''\n",
        "    raise NotImplementedError()\n",
        "\n",
        "  def predict(self, X, *args):\n",
        "    raise NotImplementedError()\n",
        "\n",
        "\n",
        "class RationalUserModel(UserModel):\n",
        "\n",
        "  def __init__(self, num_features, beta_h):\n",
        "    self.num_features = num_features\n",
        "    self.beta_h = beta_h\n",
        "    self.type = \"rational\"\n",
        "\n",
        "  def __call__(self, X):\n",
        "    return X@self.beta_h\n",
        "\n",
        "  def choice(self, X):\n",
        "    return np.argmax(self(X), axis=0)\n",
        "\n",
        "\n",
        "class AttractionUserModel(UserModel):\n",
        "  def __init__(self, beta_h, alpha_attr):\n",
        "    # rational_utility_weights\n",
        "    self.rational_utility_weights = beta_h\n",
        "    # attraction_coefficient\n",
        "    self.attraction_coefficient = alpha_attr\n",
        "    self.name = \"attraction\"\n",
        "\n",
        "  def __call__(self, X):\n",
        "    # X: shape=(num_items,num_features) - Item covariates\n",
        "    return (\n",
        "        self._rational_decision_term(X)\n",
        "        + self.attraction_coefficient*self._attraction_term(X)\n",
        "    )\n",
        "\n",
        "  def _rational_decision_term(self, X):\n",
        "    return X@self.rational_utility_weights\n",
        "\n",
        "  def _attraction_term(self, X):\n",
        "    # Calculate preference vector\n",
        "    preference_vector = X.max(axis=0)-X.min(axis=0)\n",
        "    preference_vector_normalized = (\n",
        "        preference_vector\n",
        "        /np.sqrt(preference_vector@preference_vector)\n",
        "    )\n",
        "    # Calculate dominance and distance matrices\n",
        "    N = len(X)\n",
        "    dominance = np.zeros((N,N))\n",
        "    distance = np.zeros((N,N))\n",
        "    for i in range(N):\n",
        "      for j in range(N):\n",
        "        dominance[i,j] = (+1)*np.all(X[i]-X[j] >= 0) + (-1)*np.all(X[j]-X[i] >= 0)\n",
        "        distance[i,j] = abs(preference_vector_normalized@(X[i]-X[j]))\n",
        "\n",
        "    attraction_terms = (dominance*distance).sum(axis=1)\n",
        "    return attraction_terms\n",
        "\n",
        "  def choice(self, X):\n",
        "    return np.argmax(self(X), axis=0)"
      ],
      "execution_count": null,
      "outputs": []
    },
    {
      "cell_type": "code",
      "source": [
        "#@title Context Effects Environment\n",
        "\n",
        "\n",
        "class DiscreteChoiceEnvironment:\n",
        "    \"\"\"\n",
        "    Generic class for discrete-choice dataset generation\n",
        "    \"\"\"\n",
        "    n_features = 8\n",
        "    observations_per_user = 10\n",
        "    items_per_slate = 1\n",
        "    train_user_proportion = 0.6\n",
        "\n",
        "    def _generate_user_item_attributes(self, n_users):\n",
        "        \"\"\"\n",
        "        Generate latent parameters for users and items.\n",
        "\n",
        "        Parameters\n",
        "        ----------\n",
        "        n_users : int\n",
        "\n",
        "        Output\n",
        "        ------\n",
        "        users : ndarray of shape (n_users, n_features)\n",
        "        items : ndarray of shape\n",
        "                (n_users, observations_per_user, items_per_slate, n_features)\n",
        "        \"\"\"\n",
        "        users = np.random.normal(\n",
        "            size=(\n",
        "                n_users,\n",
        "                self.n_features,\n",
        "            ),\n",
        "        )\n",
        "        items = np.random.normal(\n",
        "            size=(\n",
        "                n_users,\n",
        "                self.observations_per_user,\n",
        "                self.items_per_slate,\n",
        "                self.n_features,\n",
        "            ),\n",
        "        )\n",
        "        return users, items\n",
        "\n",
        "    def _choice(self, users, items):\n",
        "        \"\"\"\n",
        "        Discrete choice function\n",
        "\n",
        "        Parameters\n",
        "        ----------\n",
        "        users : ndarray of shape (n_users, n_features)\n",
        "        items : ndarray of shape\n",
        "                (n_users, observations_per_user, items_per_slate, n_features)\n",
        "\n",
        "        Output\n",
        "        ------\n",
        "        choice : Dict[str -> ndarray of shape(n_users, observations_per_user)]\n",
        "        \"\"\"\n",
        "        raise NotImplementedError\n",
        "\n",
        "    def _generate_choice_dataset(self, n_users):\n",
        "        \"\"\"\n",
        "        Generate choice dataset, formatted as pandas dataframe.\n",
        "        \"\"\"\n",
        "        users, items = self._generate_user_item_attributes(n_users)\n",
        "        choice_dct = self._choice(users, items)\n",
        "        rows = []\n",
        "        for i in range(n_users):\n",
        "            for j in range(self.observations_per_user):\n",
        "                dct = {}\n",
        "                dct['user_id'] = f'{i}'\n",
        "                dct['slate_id'] = f'{i}_{j}'\n",
        "                for k in range(self.items_per_slate):\n",
        "                    for l in range(self.n_features):\n",
        "                        dct[f'x_{k},{l}'] = items[i,j,k,l]\n",
        "                for choice_type, choice_matrix in choice_dct.items():\n",
        "                    dct[choice_type] = choice_matrix[i,j]\n",
        "                rows.append(dct)\n",
        "        df = pd.DataFrame(rows)\n",
        "        return df\n",
        "\n",
        "    def generate_datasets(self, n_users):\n",
        "        n_train_users = int(n_users*self.train_user_proportion)\n",
        "        n_test_users = n_users - n_train_users\n",
        "        return (\n",
        "            self._generate_choice_dataset(n_train_users),\n",
        "            self._generate_choice_dataset(n_test_users),\n",
        "        )\n",
        "\n",
        "\n",
        "class ContextChoiceEnvironment(DiscreteChoiceEnvironment):\n",
        "    \"\"\"\n",
        "    Dataset generator for binary choice with decision noise\n",
        "    \"\"\"\n",
        "    def __init__(self,\n",
        "                 slate_number=1,\n",
        "                 observations_per_user=50,\n",
        "                 num_items_omega=15):\n",
        "\n",
        "        # self.noise_scale = noise_scale\n",
        "        self.user_model = AttractionUserModel(\n",
        "                          beta_h=np.array([1,9]),\n",
        "                          alpha_attr=3,\n",
        "                          )\n",
        "        self.slate_number = slate_number\n",
        "        self.observations_per_user = observations_per_user\n",
        "        self._generate_ex1_items(slate_number=slate_number,\n",
        "                                 num_items_omega=num_items_omega)\n",
        "\n",
        "\n",
        "    def _generate_ex1_items(self, slate_number=1, num_items_omega=15):\n",
        "      if slate_number == 1:\n",
        "        self.omega = np.array([[10,3,3,4,8,4,1],[1,7,5,4,5,6,1]])\n",
        "        self.E_s = np.array([20, 90, 80, 40, 30, 80, 100])\n",
        "        self.omega_tag = np.array([[4,2.5,4.5],[4.5,6,5]])\n",
        "        self.E_s_tag = np.array([5, 8, 3])\n",
        "\n",
        "      elif slate_number == 2:\n",
        "        self.omega = np.array([[3,8,8.5,4,10,8,2, 1],[8,7,4,4,5,6,1, 8]])\n",
        "        self.E_s = np.array([10, 90, 30, 50, 30, 40,100,90])\n",
        "\n",
        "        self.omega_tag = np.array([[4,3,4.5,6],[8,6,5,6]])\n",
        "        self.E_s_tag = np.array([5, 8, 3, 9])\n",
        "\n",
        "      else:\n",
        "        np.random.seed(42)\n",
        "        num_items_omega = 15\n",
        "        self.omega, self.omega_tag = list(), list()\n",
        "        self.E_s, self.E_s_tag = list(), list()\n",
        "\n",
        "        for i in range(self.observations_per_user):\n",
        "          self.omega.append(np.hstack([np.zeros((num_items_omega, 1)),\n",
        "                                        np.ones((num_items_omega, 1))*i,\n",
        "                                        np.random.randint(\n",
        "                                            20,size=(num_items_omega,2)),\n",
        "                                       np.random.randint(\n",
        "                                           20,100,size=(num_items_omega,1))\n",
        "                                        ]\n",
        "                                       )\n",
        "          )\n",
        "\n",
        "          self.omega_tag.append(np.hstack([np.zeros((100, 1)),\n",
        "                              np.ones((100, 1))*i,\n",
        "                              np.random.randint(\n",
        "                                  20,size=(100,2)),\n",
        "                              np.random.randint(20,size=(100,1))\n",
        "                              ]\n",
        "                              )\n",
        "          )\n",
        "\n",
        "        self.omega = np.vstack(self.omega).T\n",
        "        self.omega_tag = np.vstack(self.omega_tag).T\n",
        "      return\n",
        "\n",
        "    def _items_to_frame(self, omega, E_s, char_start=ord('A')):\n",
        "\n",
        "        data = pd.DataFrame(omega.T).reset_index()\n",
        "        if len(data) < self.observations_per_user:\n",
        "          data['user_id'] = np.zeros(len(data))\n",
        "          data['slate_id'] = np.zeros(len(data))\n",
        "          data['rantional_user_val'] = omega.T@\\\n",
        "                            self.user_model.rational_utility_weights\n",
        "          data[\"E_s\"] = E_s\n",
        "\n",
        "        else:\n",
        "          data['rantional_user_val'] = data.loc[:,[2,3]].values@\\\n",
        "                  self.user_model.rational_utility_weights\n",
        "\n",
        "          data.rename(columns={0:'user_id', 1:'slate_id',\n",
        "                               2:'x_0', 3:'x_1', 4:'E_s'},\n",
        "                      inplace=True)\n",
        "\n",
        "        data['name'] = data['index'].apply(lambda x: chr(char_start+x))\n",
        "\n",
        "        return data\n",
        "\n",
        "\n",
        "    def inspect_data(self, items_type=\"current\", slate_id=-1):\n",
        "\n",
        "      if items_type == \"current\":\n",
        "        data =  self._items_to_frame(self.omega,self.E_s)\n",
        "      elif items_type == \"tag\":\n",
        "        data =  self._items_to_frame(self.omega_tag, self.E_s_tag, ord('A') + len(self.E_s)+1) #todo: change this\n",
        "\n",
        "      return data\n",
        "\n",
        "\n",
        "    def generate_datasets(self):\n",
        "\n",
        "      data = pd.DataFrame(self.omega.T).reset_index()\n",
        "      if len(data) < self.observations_per_user:\n",
        "\n",
        "        data['user_id'] = np.zeros(len(data))\n",
        "        data['slate_id'] = np.zeros(len(data))\n",
        "        data['name'] = data['index'].apply(lambda x: chr(ord('A')+x))\n",
        "        data['rantional_user_val'] = self.omega.T@\\\n",
        "                                    self.user_model.rational_utility_weights\n",
        "        self.top_5 = data.rantional_user_val.argsort()[-5:][::-1]\n",
        "        data['top_5'] = data['index'].apply(lambda x: x in self.top_5.values)\n",
        "        data['perceived_val'] = np.nan\n",
        "        data.loc[self.top_5, ['perceived_val']] = self.user_model(data.loc[self.top_5, [0,1]].values)\n",
        "        data = self._choice(data)\n",
        "\n",
        "      return data\n",
        "\n",
        "\n",
        "    def _choice(self, data):\n",
        "        dummies = pd.get_dummies(data['index'])\n",
        "        # for name, group in grouped:\n",
        "        self.chosen = data['perceived_val'].idxmax()\n",
        "        data['chosen'] = dummies.iloc[data['perceived_val'].idxmax(), :]\n",
        "        return data\n",
        "\n",
        "    def add_item(self, index):\n",
        "      self.omega = np.hstack([self.omega,self.omega_tag[:,index].reshape(2,1)])\n",
        "      self.E_s =np.hstack([self.E_s,self.E_s_tag[1]])\n",
        "      return\n",
        "\n",
        "    def pop_item(self):\n",
        "      self.omega = self.omega[:,:-1]\n",
        "      self.E_s =self.E_s[:-1]\n",
        "      return\n",
        "\n",
        "    def top_5(self, rantional_user_val):\n",
        "      return rantional_user_val.argsort()[-5:][::-1]\n",
        "\n",
        "    def plot_omega(self):\n",
        "      area = 20\n",
        "\n",
        "      self.generate_datasets()\n",
        "      fig, ax = plt.subplots()\n",
        "      ax.scatter(self.omega[0,:], self.omega[1,:], s=80,label=\"$\\Omega$\")\n",
        "      plt.title('Items in $\\Omega$', fontsize=20)\n",
        "      plt.xlabel('$X_1$')\n",
        "      plt.ylabel('$X_2$')\n",
        "      plt.grid()\n",
        "      # # color the top three items\n",
        "      ax.scatter(self.omega[0,self.top_5], self.omega[1,self.top_5], s=80, color='red')\n",
        "      # add annotations\n",
        "      S_len = self.omega.shape[1]\n",
        "      for i, txt in enumerate(string.ascii_uppercase[:S_len]):\n",
        "          ax.annotate(txt, (self.omega[0,:][i]+0.05, self.omega[1,:][i]+0.07))\n",
        "      ax.scatter(self.omega[0,self.chosen], self.omega[1,self.chosen], s=80, color='red',edgecolors='black',linewidths=2)\n",
        "\n",
        "      plt.show()\n",
        "\n",
        "    def plot_two_sets(self):\n",
        "      area = 20\n",
        "\n",
        "      fig, ax = plt.subplots()\n",
        "      ax.scatter(self.omega[0,:], self.omega[1,:], s=80,label=\"$\\Omega$\")\n",
        "      plt.title('Items in both sets', fontsize=20)\n",
        "      plt.xlabel('$X_1$')\n",
        "      plt.ylabel('$X_2$')\n",
        "      plt.grid()\n",
        "      # inspect set of decoyes\n",
        "      ax.scatter(self.omega_tag[0,:],self.omega_tag[1,:], s=80, label=\"$\\Omega'$\")\n",
        "      plt.legend(loc='lower right')\n",
        "\n",
        "\n",
        "      # add annotations and print user values\n",
        "      S_len = self.omega.shape[1]\n",
        "      Sw_s = S_len + 1\n",
        "      Sw_len = Sw_s + self.omega_tag.shape[1]\n",
        "      for i, txt in enumerate(string.ascii_uppercase[:S_len]):\n",
        "          ax.annotate(txt, (self.omega[0,:][i]+0.05, self.omega[1,:][i]+0.07))\n",
        "\n",
        "      for i, txt in enumerate(string.ascii_uppercase[Sw_s:Sw_len]):\n",
        "          ax.annotate(txt, (self.omega_tag[0,:][i]+0.1, self.omega_tag[1,:][i]+0.1))\n",
        "      plt.show()\n",
        "\n",
        "      return\n"
      ],
      "metadata": {
        "id": "YX76vMPIRvA7",
        "cellView": "form"
      },
      "execution_count": null,
      "outputs": []
    },
    {
      "cell_type": "markdown",
      "metadata": {
        "id": "9zegIuLRG5y5"
      },
      "source": [
        "\n",
        "\n",
        "-----------------\n",
        "-----------------"
      ]
    },
    {
      "cell_type": "markdown",
      "metadata": {
        "id": "LUKD_nqn3ner"
      },
      "source": [
        "## Ex 1: engineering choice sets\n",
        "\n",
        "In this task, you will play \"evil designer\" and construct sets of available items that cause (non-rational) users to choose items that are bad for them (i.e., have suboptimal value), but good for the system. In particular, users in this task will be susceptible to the *Attracttion* context effect, and the way you construct the set of items should make use of this knowledge.\n",
        "\n",
        "----------------------------------------\n",
        "\n",
        "**Recommendation procedure:**\n",
        "1. The collection of available items is the *ground set* $\\Omega=\\{x_1,...,x_n\\}$ ($n$ may be different in different parts of this task). Each item $x \\in s$ is described by two features, $x=(x_1, x_2)$.\n",
        "2. There is a single user whose (true) value function is $v(x)=\\alpha^\\top x$. I.e., if the user chooses item $x_i$, then she receives $\\alpha_1\\cdot x_{i1} + \\alpha_2\\cdot x_{i2}$ utility from this choice. **The value vector $\\alpha$ is known to the system**.\n",
        "3. System also benefits from user choices. If the user chooses item $x_i$, then the system receives $e_i$ utility. The values $e_i$ are predetermined, known to the system, and do not depend on features.\n",
        "4. The system recommends to the user the top-5 items $x\\in \\Omega$ having highest value. We will call this the *choice set*, denoted $s \\in \\Omega$.\n",
        "5. The user chooses exactly one item $x \\in s$. This is the item with highest *perceived value*, as determined by the attraction effect:\n",
        "$$\n",
        "  \\tilde{v}(x|s) = \\alpha^\\top x + \\mathtt{att}(x|s)\n",
        "$$\n",
        "where $\\mathtt{att}$ is as was defined in class. We will denote the chosen item by $y = \\mathtt{argmax}_{x \\in s} \\tilde{v}(x|s)$.\n",
        "6. User receives utility $v(y)$, and system receives utility $e_y$.\n",
        "\n",
        "----------------------------------------\n",
        "\n",
        "In the above description, the system recommends in a way that is optimal to users. In this task, *you are an agent of the system*, and your goal is to maximize the system's utility.\n",
        "\n",
        "Of course, you cannot simply force the user to choose a certain item, nor can you change the recommendation procedure. The only thing you are allowed to do is to modify $\\Omega$ by adding one additional item from a different set of items, $\\Omega'$. Once $\\Omega$ is modified (i.e., includes one additional item), the recommendation procedure and user choice behavior is as described above.\n",
        "Hence, your goal is to (manually) choose $x \\in \\Omega$ such that the choice $y$ derived from a top-5 recommended set $s$ based on the collection of items $\\Omega \\cup \\{x\\}$ will results in high system utility $e_y$ (and possibly with lower utility $v(y)$ to the user).\n",
        "\n",
        "As you will see, items in  $\\Omega'$ actually have lower system values $e_i$ than items in $\\Omega$ ($\\forall e \\in E_S, e' \\in E_S':  e > e'$). Therefore, the item you add will serve as a *decoy*: these serve to modify the preceived values of items in $s$, in a way that utilizes the attraction effect to affect choice behavior."
      ]
    },
    {
      "cell_type": "markdown",
      "metadata": {
        "id": "4sm5Z1Pr-Nbe"
      },
      "source": [
        "### 1.1 Guided example - a gentle start:\n",
        "\n",
        "Set $\\Omega$ consists of 7 items:\n",
        "\n",
        "\\begin{align}\n",
        "{A:(1,10), B:(3,7), C:(3,5), D:(4,4), E:(8,5), F:(4,6), G:(1,1)}\n",
        "\\end{align}\n",
        "\n",
        "with the following system utility values $e_s=\\{e_1,\\dots,e_n\\}$:\n",
        "\\begin{align}\n",
        "\\{20, 90, 80, 40, 30, 80, 100\\}\n",
        "\\end{align}\n",
        "\n",
        "Additionally, we have set $\\Omega'$:\n",
        "\\begin{align}\n",
        "{I:(4,4.5), J:(2.5,6), K:(4.5,5)}\n",
        "\\end{align}\n",
        "with the following values $e_{s'}$:\n",
        "\\begin{align}\n",
        "\\{5, 8, 3\\}\n",
        "\\end{align}\n",
        "\n",
        "The parameter $\\alpha$ of the user value function is:\n",
        "\\begin{align}\n",
        "\\alpha_1 = 1, \\alpha_2 = 9\n",
        "\\end{align}\n"
      ]
    },
    {
      "cell_type": "markdown",
      "metadata": {
        "id": "9HFE1ClPH3NR"
      },
      "source": [
        "1.1.1 First, let's see what happens before you intervene. Run the code below to see what 5 items are recommended by the system when $\\Omega$ is the ground set,\n",
        "and what item the user chooses. Make sure you understand what the code does."
      ]
    },
    {
      "cell_type": "code",
      "metadata": {
        "id": "nElEn6waxzKh"
      },
      "source": [
        "attraction_env = ContextChoiceEnvironment()\n",
        "attraction_env.inspect_data(items_type=\"current\")"
      ],
      "execution_count": null,
      "outputs": []
    },
    {
      "cell_type": "code",
      "source": [
        "attraction_env.inspect_data(items_type=\"tag\")"
      ],
      "metadata": {
        "id": "IvVDRgpLFAtG"
      },
      "execution_count": null,
      "outputs": []
    },
    {
      "cell_type": "markdown",
      "metadata": {
        "id": "TU5AUnijJ7Hq"
      },
      "source": [
        "1.1.2 Use ```generate_datasets``` method to print a table showing for each of Omega's items (rows) the true value and perceived value for the user (columns). save results to variable ```df```and print"
      ]
    },
    {
      "cell_type": "code",
      "metadata": {
        "id": "EsaQCFw0Y7_B"
      },
      "source": [
        "df = attraction_env.generate_datasets()\n",
        "df"
      ],
      "execution_count": null,
      "outputs": []
    },
    {
      "cell_type": "markdown",
      "metadata": {
        "id": "O5kMKUejKZBj"
      },
      "source": [
        "1.1.3 Use\n",
        "```plot_omega``` method to plot all items in 2D space and highlights the top-5 items and the user's choice:"
      ]
    },
    {
      "cell_type": "code",
      "metadata": {
        "id": "fv3ga2KQbyXL"
      },
      "source": [
        "attraction_env.plot_omega()"
      ],
      "execution_count": null,
      "outputs": []
    },
    {
      "cell_type": "markdown",
      "metadata": {
        "id": "I8ec9tKqbyE_"
      },
      "source": [
        "In the above plot, items in $\\Omega$ are dots. Top-5 items that are currently selected from $\\omega$ are colored red, and all others are blue. The chosen item has a black border.\n",
        "\n",
        "Some things to note:\n",
        "* Items C and D are dominated by E and F (make sure you understand what this means, and why it holds).\n",
        "* User chooses item E, meaning it has the highest perceived value. Here, item E also has the highest true value, and so the user is happy.\n",
        "* The value to the system form the user choosing item E is $e_E=20$."
      ]
    },
    {
      "cell_type": "markdown",
      "metadata": {
        "id": "HvRnRCRxLo4p"
      },
      "source": [
        "1.1.4\n",
        "What can you do to improve the system's utility?\n",
        "The next block of code plots items in both $\\Omega$ and $\\Omega'$ in 2D space:"
      ]
    },
    {
      "cell_type": "code",
      "metadata": {
        "id": "nouCbut-50U4"
      },
      "source": [
        "attraction_env.plot_two_sets()"
      ],
      "execution_count": null,
      "outputs": []
    },
    {
      "cell_type": "markdown",
      "metadata": {
        "id": "StRfUYsT_cOt"
      },
      "source": [
        "Examine the plot. Using your knowledge about how the attraction effect works, think: if you are allowed to add one item from $\\Omega'$ to $\\Omega$, and if you are interested in maximizing system utility - which item would you add?\n",
        "\n",
        "Write your answer, and provide an explanation for your choice."
      ]
    },
    {
      "cell_type": "markdown",
      "source": [
        "\n",
        "\n",
        "```\n",
        "Answer:...\n",
        "```"
      ],
      "metadata": {
        "id": "35J5QvT4mcwa"
      }
    },
    {
      "cell_type": "markdown",
      "metadata": {
        "id": "4P8NeR5FKwKs"
      },
      "source": [
        "1.1.5 Next, let's examine what happens when we add $H$ to $\\Omega$:"
      ]
    },
    {
      "cell_type": "code",
      "metadata": {
        "id": "ENJ--nAxxg3h"
      },
      "source": [
        "# plot over scatter\n",
        "# Add new item to S\n",
        "index = 1 #this is the index of H in Omega'\n",
        "attraction_env.add_item(index=index)\n",
        "\n",
        "attraction_env.plot_omega()"
      ],
      "execution_count": null,
      "outputs": []
    },
    {
      "cell_type": "markdown",
      "metadata": {
        "id": "5komX9WBOG1H"
      },
      "source": [
        "Print a table of true value, perceived value, and system utility for all top-5 items:"
      ]
    },
    {
      "cell_type": "code",
      "metadata": {
        "id": "hazEJbG6OM2M"
      },
      "source": [
        "df_new = attraction_env.generate_datasets()\n",
        "df_new.loc[df_new['top_5']]"
      ],
      "execution_count": null,
      "outputs": []
    },
    {
      "cell_type": "markdown",
      "metadata": {
        "id": "xmZMvrLZysAp"
      },
      "source": [
        "Notice how $H$ contributed to the perceived value of $B$, just enough to make it more appealing than $E$.\n",
        "\n",
        "Congrats! The system now gets $e_B=90$ utility! (recall it was 30 before)"
      ]
    },
    {
      "cell_type": "markdown",
      "metadata": {
        "id": "G1Dy6n1Rp54D"
      },
      "source": [
        "1.1.6 Finally, let's compute:\n",
        "* welfare - this is the actual value to the user from choice\n",
        "* regret - this is the gap between the percieved value and true value of the chosen item\n",
        "(if there were more than one user, we would measure the average).\n",
        "\n",
        "Run the following code blocks and print welfare and regret for Omega before and after adding the additional item.\n"
      ]
    },
    {
      "cell_type": "code",
      "metadata": {
        "id": "rBtm0A21y9_y"
      },
      "source": [
        "# welfare\n",
        "## YOUR SOLUTION"
      ],
      "execution_count": null,
      "outputs": []
    },
    {
      "cell_type": "code",
      "metadata": {
        "id": "yJDwXClI9uCX"
      },
      "source": [
        "# regret\n",
        "## YOUR SOLUTION"
      ],
      "execution_count": null,
      "outputs": []
    },
    {
      "cell_type": "markdown",
      "metadata": {
        "id": "AM8nQec-zEDN"
      },
      "source": [
        "### 1.2 **Now You: Find an item to add without any guidance**\n",
        "\n",
        "In this section, your goal is to repeat the task of finding an item to add, but without guidance - we will just give you the sets $\\Omega$ and $\\Omega'$.\n"
      ]
    },
    {
      "cell_type": "code",
      "metadata": {
        "id": "uO3zDK4DzHCn"
      },
      "source": [
        "# New data:\n",
        "attraction_env = ContextChoiceEnvironment(slate_number=2)\n",
        "attraction_env.inspect_data(items_type=\"current\")"
      ],
      "execution_count": null,
      "outputs": []
    },
    {
      "cell_type": "code",
      "source": [
        "attraction_env.inspect_data(items_type=\"tag\")"
      ],
      "metadata": {
        "id": "Y5ZyQ8lJa5Mt"
      },
      "execution_count": null,
      "outputs": []
    },
    {
      "cell_type": "markdown",
      "metadata": {
        "id": "9m-_jCJ5Rk6y"
      },
      "source": [
        "1.2.1 Add code in the given blocks to generate relevant scatter plots. Use these to reason about which item to add - write your answer and explanation in the relevant blocks.\n"
      ]
    },
    {
      "cell_type": "code",
      "metadata": {
        "id": "76oYR8_UVvnT"
      },
      "source": [
        "## YOUR SOLUTION"
      ],
      "execution_count": null,
      "outputs": []
    },
    {
      "cell_type": "code",
      "metadata": {
        "id": "Fiyjd1q2wkdo"
      },
      "source": [
        "## YOUR SOLUTION"
      ],
      "execution_count": null,
      "outputs": []
    },
    {
      "cell_type": "markdown",
      "metadata": {
        "id": "Cdg-QyKkivvQ"
      },
      "source": [
        "**Which item will you add and why?** (you can use the code to experiment)"
      ]
    },
    {
      "cell_type": "markdown",
      "source": [
        "\n",
        "\n",
        "```\n",
        "Answer:...\n",
        "```\n",
        "\n"
      ],
      "metadata": {
        "id": "kSC6E4oamDcK"
      }
    },
    {
      "cell_type": "markdown",
      "metadata": {
        "id": "6O0YEMXJRm8f"
      },
      "source": [
        "1.2.2 Add code to generate the final plot, showing recommendations and choice after you have added the additional item."
      ]
    },
    {
      "cell_type": "code",
      "metadata": {
        "id": "Wum1D-NSi4AK"
      },
      "source": [
        "## YOUR SOLUTION"
      ],
      "execution_count": null,
      "outputs": []
    },
    {
      "cell_type": "markdown",
      "metadata": {
        "id": "ViyT713yuuTT"
      },
      "source": [
        "1.2.3 Calculate welfare and regret for before and after adding the additional item. Print your results.\n"
      ]
    },
    {
      "cell_type": "code",
      "metadata": {
        "id": "jeTXEPz8jFSU"
      },
      "source": [
        "## YOUR SOLUTION"
      ],
      "execution_count": null,
      "outputs": []
    },
    {
      "cell_type": "markdown",
      "source": [
        "# Ex 2: your ranker\n",
        "\n",
        "Here you implement your ranking algorithm class."
      ],
      "metadata": {
        "id": "gANnqHEU65SN"
      }
    },
    {
      "cell_type": "markdown",
      "source": [
        "Load Train and test datasets:"
      ],
      "metadata": {
        "id": "m6GbT-sN73z6"
      }
    },
    {
      "cell_type": "code",
      "source": [],
      "metadata": {
        "id": "G8CV0lrz7EL9"
      },
      "execution_count": null,
      "outputs": []
    },
    {
      "cell_type": "markdown",
      "source": [
        "Your Ranker implementation"
      ],
      "metadata": {
        "id": "5g8q0JWe8L2E"
      }
    },
    {
      "cell_type": "code",
      "source": [
        "## YOUR SOLUTION"
      ],
      "metadata": {
        "id": "2l1goVgQ8Rb6"
      },
      "execution_count": null,
      "outputs": []
    },
    {
      "cell_type": "markdown",
      "source": [
        "Test Your ranker with the example inputs, print accuracy."
      ],
      "metadata": {
        "id": "Nwk5Zh8e8Vol"
      }
    },
    {
      "cell_type": "code",
      "source": [
        "## YOUR SOLUTION"
      ],
      "metadata": {
        "id": "TyIbsKxz8c5f"
      },
      "execution_count": null,
      "outputs": []
    }
  ]
}